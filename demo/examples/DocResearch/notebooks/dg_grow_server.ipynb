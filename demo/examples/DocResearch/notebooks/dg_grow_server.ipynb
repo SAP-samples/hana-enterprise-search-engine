{
 "cells": [
  {
   "cell_type": "markdown",
   "metadata": {},
   "source": [
    "## Initialize"
   ]
  },
  {
   "cell_type": "code",
   "execution_count": null,
   "metadata": {},
   "outputs": [],
   "source": [
    "import requests\n",
    "import pandas as pd\n",
    "import os\n",
    "import sys\n",
    "from datetime import datetime\n",
    "from ipywidgets import Dropdown\n",
    "import requests\n",
    "import json\n",
    "import base64\n",
    "from PyPDF2 import PdfFileReader\n",
    "import fitz\n",
    "\n",
    "sys.path.append(os.path.join(sys.path[0], '..', '..', '..', '..'))\n",
    "import src.esh_client as esh\n",
    "from demo.shared.tools import (TENANT_SUFFIX, StopExecution, get_base_url,\n",
    "                               get_root_path, print_response)\n",
    "\n",
    "headers = {'Content-Type': 'application/json'}\n",
    "base_url = get_base_url()\n",
    "root_path = get_root_path()\n"
   ]
  },
  {
   "cell_type": "markdown",
   "metadata": {},
   "source": [
    "### Select example which should be used"
   ]
  },
  {
   "cell_type": "code",
   "execution_count": null,
   "metadata": {},
   "outputs": [],
   "source": [
    "example_path = os.path.join('..')\n",
    "options = next(os.walk(example_path))[1]\n",
    "selected = Dropdown(\n",
    "    options=options,\n",
    "    description='Select:',\n",
    "    value = None,\n",
    "    disabled=False,\n",
    ")\n",
    "selected"
   ]
  },
  {
   "cell_type": "markdown",
   "metadata": {},
   "source": [
    "### Create data.json"
   ]
  },
  {
   "cell_type": "code",
   "execution_count": null,
   "metadata": {},
   "outputs": [],
   "source": [
    "if selected.value:\n",
    "    payload_list = []\n",
    "    # Get files path\n",
    "    current_path = os.path.join(sys.path[0], '..', selected.value)\n",
    "    # Iterate about the folder with all files\n",
    "    for filename in os.listdir(current_path):\n",
    "        docType = ''\n",
    "        filename_blank = ''\n",
    "        created_at_string = ''\n",
    "        changed_at_string = ''\n",
    "        author = ''\n",
    "        encoded_img = ''\n",
    "        encoded_doc = ''\n",
    "        # Read PDF File and encode to base64\n",
    "        with open(os.path.join(current_path, filename), 'rb') as f:  # open in readonly mode\n",
    "            if filename.endswith('pdf'):\n",
    "                docType = 'PDF'\n",
    "                filename_blank = filename.replace('.pdf', '')\n",
    "\n",
    "                # encode to base64\n",
    "                encoded_string = base64.b64encode(f.read())\n",
    "                encoded_doc = encoded_string.decode('ascii')\n",
    "\n",
    "                # Get file info\n",
    "                pdf = PdfFileReader(f)\n",
    "                info = pdf.getDocumentInfo()\n",
    "\n",
    "                created_at = str(info.creation_date_raw)\n",
    "                created_at_string = created_at[2:10]\n",
    "                changed_at = str(info.modification_date_raw)\n",
    "                changed_at_string = changed_at[2:10]\n",
    "                print(filename_blank + ' Created at: ' + created_at_string +\n",
    "                      ' Changed at: ' + changed_at_string)\n",
    "                if info.author == None:\n",
    "                    author = 'Not specified'\n",
    "                else:\n",
    "                    author = info.author\n",
    "\n",
    "                # get image\n",
    "                pdf_file = fitz.open(os.path.join(\n",
    "                    current_path, filename))\n",
    "                page = pdf_file[0]\n",
    "                image_page = page.get_pixmap()\n",
    "                image_page.shrink(2)\n",
    "                encoded_string_img = base64.b64encode(image_page.tobytes())\n",
    "                encoded_img = encoded_string_img.decode('ascii')\n",
    "                encoded_img = 'data:;base64,' + encoded_img\n",
    "\n",
    "                \n",
    "            elif filename.endswith('doc'):\n",
    "                \n",
    "                docType = 'DOC'\n",
    "                filename_blank = filename.replace('.doc', '')\n",
    "\n",
    "                # encode to base64\n",
    "                encoded_string = base64.b64encode(f.read())\n",
    "                encoded_doc = encoded_string.decode('ascii')\n",
    "                  \n",
    "            elif filename.endswith('docx'):\n",
    "                docType = 'DOCX'\n",
    "                filename_blank = filename.replace('.docx', '')\n",
    "\n",
    "                # encode to base64\n",
    "                encoded_string = base64.b64encode(f.read())\n",
    "                encoded_doc = encoded_string.decode('ascii')\n",
    "                \n",
    "                                \n",
    "            elif filename.endswith('xls'):\n",
    "                docType = 'XLS'\n",
    "                filename_blank = filename.replace('.xls', '')\n",
    "\n",
    "                # encode to base64\n",
    "                encoded_string = base64.b64encode(f.read())\n",
    "                encoded_doc = encoded_string.decode('ascii')\n",
    "                \n",
    "                                \n",
    "            elif filename.endswith('xlsx'):\n",
    "                docType = 'XLSX'\n",
    "                filename_blank = filename.replace('.xlsx', '')\n",
    "\n",
    "                # encode to base64\n",
    "                encoded_string = base64.b64encode(f.read())\n",
    "                encoded_doc = encoded_string.decode('ascii')\n",
    "                \n",
    "                                \n",
    "            elif filename.endswith('msg'):\n",
    "                docType = 'MSG'\n",
    "                filename_blank = filename.replace('.msg', '')\n",
    "\n",
    "                # encode to base64\n",
    "                encoded_string = base64.b64encode(f.read())\n",
    "                encoded_doc = encoded_string.decode('ascii')\n",
    "                \n",
    "                                \n",
    "            # Append to JSON\n",
    "            payload = json.dumps({\n",
    "                'Document': [\n",
    "                    {\n",
    "                        'image': encoded_img,\n",
    "                        'title': filename_blank,\n",
    "                        'author': author,\n",
    "                        'text': encoded_doc,\n",
    "                        'createdAt': created_at_string,\n",
    "                        'changedAt': changed_at_string,\n",
    "                        'docType': docType\n",
    "                    }\n",
    "                ]\n",
    "            }, indent=2\n",
    "            )\n",
    "            payload_list.append(payload)\n",
    "    #save data.json\n",
    "    with open(f'../{selected.value}/data.json','w') as fjson:        \n",
    "        json.dump(payload_list, fjson)\n",
    "\n",
    "else:\n",
    "    print('No folder selected for files')\n"
   ]
  },
  {
   "cell_type": "markdown",
   "metadata": {},
   "source": [
    "### Create CSON (JSON-format) from CDS file (text format) using the CDS compiler"
   ]
  },
  {
   "cell_type": "code",
   "execution_count": null,
   "metadata": {},
   "outputs": [],
   "source": [
    "if selected.value:\n",
    "    cson_file_direct = os.path.join(root_path, '..', 'examples', 'DocResearch', 'model.json')\n",
    "    if os.path.exists(cson_file_direct):\n",
    "        with open(cson_file_direct, encoding='utf-8') as f:\n",
    "            cson = json.load(f)\n",
    "    else:\n",
    "        cds_file = os.path.join(root_path, '..',  'model.cds')\n",
    "        cson_file = os.path.join(root_path, '..','..','..', 'shared', 'temp', 'DocResearch.model.json')\n",
    "        command_line_statement = (f'cds compile {cds_file} --to json -o {cson_file}')\n",
    "        os.system(command_line_statement)\n",
    "        with open(cson_file, encoding='utf-8') as f:\n",
    "            cson = json.load(f)\n",
    "        print(f'The following command line statement was executed to compile the example cds file to cson. Filename is temp{os.sep}DocResearch.model.json):')\n",
    "        print(command_line_statement)\n",
    "    data_file = os.path.join(root_path, '..', 'examples', 'DocResearch',selected.value, 'data.json')\n",
    "else:\n",
    "    print('No example selected')"
   ]
  },
  {
   "cell_type": "markdown",
   "metadata": {},
   "source": [
    "## Create Tenant, deploy, load data on SAP Server"
   ]
  },
  {
   "cell_type": "code",
   "execution_count": null,
   "metadata": {},
   "outputs": [],
   "source": [
    "headers = {'Content-Type': 'application/json'}\n",
    "#Create Tenant\n",
    "r = requests.post(f'http://vlcspdj7db.devsys.net.sap:8031/v1/tenant/DocResearch{TENANT_SUFFIX}')\n",
    "print_response(r)\n",
    "#Deploy \n",
    "r = requests.post(f'http://vlcspdj7db.devsys.net.sap:8031/v1/deploy/DocResearch{TENANT_SUFFIX}', json=cson)\n",
    "print_response(r)\n",
    "#Load data\n",
    "if selected.value:\n",
    "    data_file = os.path.join(root_path, '..', selected.value, 'data.json')\n",
    "    if os.path.exists(data_file):\n",
    "        with open(data_file, encoding = 'utf-8') as f:\n",
    "            data = json.load(f)\n",
    "        for element in payload_list:\n",
    "            r = requests.post(f'http://vlcspdj7db.devsys.net.sap:8031/v1/data/DocResearch{TENANT_SUFFIX}', data=element, headers=headers)#json=data)\n",
    "            if r.status_code == 200:\n",
    "                print('Data successfully loaded')\n",
    "            else:\n",
    "                print(f'Error loading data. HTTP status code {r.status_code}')\n",
    "                print(r.text)\n",
    "    else:\n",
    "        print('No data file exists')\n"
   ]
  },
  {
   "cell_type": "markdown",
   "metadata": {},
   "source": [
    "## Delete tenant on SAP server"
   ]
  },
  {
   "cell_type": "code",
   "execution_count": null,
   "metadata": {},
   "outputs": [],
   "source": [
    "if selected.value:\n",
    "    r = requests.delete(f'http://vlcspdj7db.devsys.net.sap:8031/v1/tenant/DocResearch{TENANT_SUFFIX}')\n",
    "    print_response(r)\n",
    "else:\n",
    "    print('There is no tenant to delete')\n"
   ]
  }
 ],
 "metadata": {
  "kernelspec": {
   "display_name": "Python 3.10.6 64-bit",
   "language": "python",
   "name": "python3"
  },
  "language_info": {
   "codemirror_mode": {
    "name": "ipython",
    "version": 3
   },
   "file_extension": ".py",
   "mimetype": "text/x-python",
   "name": "python",
   "nbconvert_exporter": "python",
   "pygments_lexer": "ipython3",
   "version": "3.10.6"
  },
  "orig_nbformat": 4,
  "vscode": {
   "interpreter": {
    "hash": "f8512305d299d2e9fc6762953164f306cccf922e65b280e5794fe70a35a18825"
   }
  }
 },
 "nbformat": 4,
 "nbformat_minor": 2
}
