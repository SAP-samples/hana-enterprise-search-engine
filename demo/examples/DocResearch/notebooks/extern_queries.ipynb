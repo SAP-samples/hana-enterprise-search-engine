{
 "cells": [
  {
   "cell_type": "markdown",
   "metadata": {},
   "source": [
    "## Initialize"
   ]
  },
  {
   "cell_type": "code",
   "execution_count": null,
   "metadata": {},
   "outputs": [],
   "source": [
    "\n",
    "\n",
    "import requests\n",
    "import pandas as pd\n",
    "import os\n",
    "import sys\n",
    "from datetime import datetime\n",
    "import base64\n",
    "\n",
    "sys.path.append(os.path.join(sys.path[0], '..', '..', '..', '..'))\n",
    "\n",
    "import src.esh_client as esh\n",
    "from demo.shared.tools import TENANT_SUFFIX, get_base_url, get_root_path\n",
    "base_url = get_base_url()\n",
    "root_path = get_root_path()\n",
    "example_name = sys.path[0].split(os.sep)[-2]\n",
    "\n",
    "\n",
    "def execute_search_query(query):\n",
    "    r = requests.post(\n",
    "        f'{base_url}/v1/query/{example_name}{TENANT_SUFFIX}/latest', json=[query])\n",
    "    if r.status_code == 200:\n",
    "        res = r.json()[0]\n",
    "        if '@odata.count' in res:\n",
    "            print(f'Total count: {res[\"@odata.count\"]}')\n",
    "        if res and 'value' in res and res['value']:\n",
    "            df = pd.DataFrame.from_dict(res['value'])[\n",
    "                ['title', 'author', 'text', 'createdAt', 'changedAt']]\n",
    "            df.rename(columns={'title': 'Title', 'author': 'Author',\n",
    "                      'text': 'Text', 'createdAt': 'Created at', 'changedAt': 'Changed at'}, inplace=True)\n",
    "            display(df)\n",
    "        else:\n",
    "            print('No results')\n",
    "    else:\n",
    "        print(f'Error during search. HTTP status code {r.status_code}')\n",
    "        print(r.json())\n"
   ]
  },
  {
   "cell_type": "markdown",
   "metadata": {},
   "source": [
    "## Text search"
   ]
  },
  {
   "cell_type": "code",
   "execution_count": null,
   "metadata": {},
   "outputs": [],
   "source": [
    "so = esh.EshObject(\n",
    "    count=True,\n",
    "    top=3,\n",
    "    wherefound=True,\n",
    "    scope=['Document'],\n",
    "    searchQueryFilter=esh.Expression(\n",
    "        operator=esh.LogicalOperator.AND,\n",
    "        items=[\n",
    "            esh.Comparison(\n",
    "                property=esh.Property(property=['text']),\n",
    "                operator=esh.ComparisonOperator.Search,\n",
    "                value=esh.StringValue(value='BMW')\n",
    "            )\n",
    "        ]\n",
    "    )\n",
    ")\n",
    "execute_search_query(so.dict(exclude_none=True))"
   ]
  },
  {
   "cell_type": "markdown",
   "metadata": {},
   "source": [
    "## Search for several text snippets"
   ]
  },
  {
   "cell_type": "code",
   "execution_count": null,
   "metadata": {},
   "outputs": [],
   "source": [
    "so = esh.EshObject(\n",
    "    count=True,\n",
    "    top=4,\n",
    "    scope=['Document'],\n",
    "    searchQueryFilter=esh.Expression(\n",
    "        operator=esh.LogicalOperator.AND,\n",
    "        items=[\n",
    "            esh.Comparison(\n",
    "                property=esh.Property(property=['text']),\n",
    "                operator=esh.ComparisonOperator.Search,\n",
    "                value=esh.StringValue(value='BMW Finance')\n",
    "            ),\n",
    "            \n",
    "            esh.Comparison(\n",
    "                property=esh.Property(property=['text']),\n",
    "                operator=esh.ComparisonOperator.Search,\n",
    "                value=esh.StringValue(value='Finance'))\n",
    "        ]\n",
    "    )\n",
    ")\n",
    "execute_search_query(so.dict(exclude_none=True))"
   ]
  },
  {
   "cell_type": "markdown",
   "metadata": {},
   "source": [
    "## Search for explicit numbers"
   ]
  },
  {
   "cell_type": "code",
   "execution_count": null,
   "metadata": {},
   "outputs": [],
   "source": [
    "so = esh.EshObject(\n",
    "    count=True,\n",
    "    top=4,\n",
    "    scope=['Document'],\n",
    "    searchQueryFilter=esh.Expression(\n",
    "        operator=esh.LogicalOperator.AND,\n",
    "        items=[\n",
    "            esh.Comparison(\n",
    "                property=esh.Property(property=['text']),\n",
    "                operator=esh.ComparisonOperator.Search,\n",
    "                value=esh.StringValue(value='2,340', isPhrase=True)\n",
    "            )]\n",
    "    )\n",
    ")\n",
    "execute_search_query(so.dict(exclude_none=True))"
   ]
  },
  {
   "cell_type": "markdown",
   "metadata": {},
   "source": [
    "## Search for author"
   ]
  },
  {
   "cell_type": "code",
   "execution_count": null,
   "metadata": {},
   "outputs": [],
   "source": [
    "so = esh.EshObject(\n",
    "    count=True,\n",
    "    top=4,\n",
    "    scope=['Document'],\n",
    "    searchQueryFilter=esh.Expression(\n",
    "        operator=esh.LogicalOperator.AND,\n",
    "        items=[\n",
    "            esh.Comparison(\n",
    "                property=esh.Property(property=['author']),\n",
    "                operator=esh.ComparisonOperator.Search,\n",
    "                value=esh.StringValue(value='Daria')\n",
    "            )]\n",
    "    )\n",
    ")\n",
    "execute_search_query(so.dict(exclude_none=True))"
   ]
  },
  {
   "cell_type": "markdown",
   "metadata": {},
   "source": [
    "## Search for date when the documents were created"
   ]
  },
  {
   "cell_type": "code",
   "execution_count": null,
   "metadata": {},
   "outputs": [],
   "source": [
    "so = esh.EshObject(\n",
    "    count=True,\n",
    "    top=4,\n",
    "    scope=['Document'],\n",
    "    searchQueryFilter=esh.Expression(\n",
    "        operator=esh.LogicalOperator.AND,\n",
    "        items=[\n",
    "            esh.Comparison(\n",
    "                property=esh.Property(property=['createdAt']),\n",
    "                operator=esh.ComparisonOperator.Search,\n",
    "                value=esh.StringValue(value='2022-10-27')\n",
    "            )]\n",
    "    )\n",
    ")\n",
    "execute_search_query(so.dict(exclude_none=True))"
   ]
  },
  {
   "cell_type": "markdown",
   "metadata": {},
   "source": [
    "## Fuzzy Search"
   ]
  },
  {
   "cell_type": "code",
   "execution_count": null,
   "metadata": {},
   "outputs": [],
   "source": [
    "so = esh.EshObject(\n",
    "    count=True,\n",
    "    # top=1,\n",
    "    scope=['Document'],\n",
    "    searchQueryFilter=esh.Expression(\n",
    "        operator=esh.LogicalOperator.AND,\n",
    "        items=[\n",
    "            esh.Comparison(\n",
    "                property=esh.Property(property=['text']),\n",
    "                operator=esh.ComparisonOperator.Search,\n",
    "                value=esh.StringValue(\n",
    "                    value='stretgy', # strategy\n",
    "                    searchOptions=esh.SearchOptions(fuzzinessThreshold=0.7)\n",
    "                )\n",
    "            )\n",
    "        ]\n",
    "    )\n",
    ")\n",
    "\n",
    "execute_search_query(so.dict(exclude_none=True))"
   ]
  },
  {
   "cell_type": "markdown",
   "metadata": {},
   "source": [
    "## Search for creation date ranges"
   ]
  },
  {
   "cell_type": "code",
   "execution_count": null,
   "metadata": {},
   "outputs": [],
   "source": [
    "so = esh.EshObject(\n",
    "    count=True,\n",
    "    top=4,\n",
    "    scope=['Document'],\n",
    "    searchQueryFilter=esh.Expression(\n",
    "        operator=esh.LogicalOperator.AND,\n",
    "        items=[\n",
    "            esh.Comparison(\n",
    "                property=esh.Property(property=['createdAt']),\n",
    "                operator=esh.ComparisonOperator.BetweenCaseInsensitive,\n",
    "                value=esh.RangeValue(start=esh.DateValue(value='2022-10-01'), end=esh.DateValue(value='2022-10-31'))\n",
    "            )]\n",
    "    )\n",
    ")\n",
    "execute_search_query(so.dict(exclude_none=True))"
   ]
  },
  {
   "cell_type": "markdown",
   "metadata": {},
   "source": [
    "## Search for explizit text in a file"
   ]
  },
  {
   "cell_type": "code",
   "execution_count": null,
   "metadata": {},
   "outputs": [],
   "source": [
    "so = esh.EshObject(\n",
    "    count=True,\n",
    "    top=4,\n",
    "    scope=['Document'],\n",
    "    searchQueryFilter=esh.Expression(\n",
    "        operator=esh.LogicalOperator.AND,\n",
    "        items=[\n",
    "            esh.Comparison(\n",
    "                property=esh.Property(property=['text']),\n",
    "                operator=esh.ComparisonOperator.Search,\n",
    "                value=esh.StringValue(value='BMW Group und Daimler Mobility veräußern PARK NOW an EasyPark Group', isPhrase=True)\n",
    "            )]\n",
    "    )\n",
    ")\n",
    "execute_search_query(so.dict(exclude_none=True))"
   ]
  }
 ],
 "metadata": {
  "kernelspec": {
   "display_name": "Python 3.10.6 64-bit",
   "language": "python",
   "name": "python3"
  },
  "language_info": {
   "codemirror_mode": {
    "name": "ipython",
    "version": 3
   },
   "file_extension": ".py",
   "mimetype": "text/x-python",
   "name": "python",
   "nbconvert_exporter": "python",
   "pygments_lexer": "ipython3",
   "version": "3.10.6"
  },
  "orig_nbformat": 4,
  "vscode": {
   "interpreter": {
    "hash": "f8512305d299d2e9fc6762953164f306cccf922e65b280e5794fe70a35a18825"
   }
  }
 },
 "nbformat": 4,
 "nbformat_minor": 2
}
