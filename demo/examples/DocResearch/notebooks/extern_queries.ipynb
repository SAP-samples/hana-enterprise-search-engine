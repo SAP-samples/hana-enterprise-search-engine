{
 "cells": [
  {
   "cell_type": "markdown",
   "metadata": {},
   "source": [
    "## Initialize"
   ]
  },
  {
   "cell_type": "code",
   "execution_count": 150,
   "metadata": {},
   "outputs": [],
   "source": [
    "\n",
    "import src.esh_client as esh\n",
    "from demo.shared.tools import TENANT_SUFFIX, get_base_url, get_root_path\n",
    "import requests\n",
    "import pandas as pd\n",
    "import os\n",
    "import sys\n",
    "from datetime import datetime\n",
    "import base64\n",
    "\n",
    "sys.path.append(os.path.join(sys.path[0], '..', '..', '..', '..'))\n",
    "\n",
    "base_url = get_base_url()\n",
    "root_path = get_root_path()\n",
    "example_name = sys.path[0].split(os.sep)[-2]\n",
    "\n",
    "\n",
    "def execute_search_query(query):\n",
    "    r = requests.post(\n",
    "        f'{base_url}/v1/query/{example_name}{TENANT_SUFFIX}/latest', json=[query])\n",
    "    if r.status_code == 200:\n",
    "        res = r.json()[0]\n",
    "        if '@odata.count' in res:\n",
    "            print(f'Total count: {res[\"@odata.count\"]}')\n",
    "        if res and 'value' in res and res['value']:\n",
    "            df = pd.DataFrame.from_dict(res['value'])[\n",
    "                ['title', 'author', 'text', 'createdAt', 'changedAt']]\n",
    "            df.rename(columns={'title': 'Title', 'author': 'Author',\n",
    "                      'text': 'Text', 'createdAt': 'Created at', 'changedAt': 'Changed at'}, inplace=True)\n",
    "            display(df)\n",
    "        else:\n",
    "            print('No results')\n",
    "    else:\n",
    "        print(f'Error during search. HTTP status code {r.status_code}')\n",
    "        print(r.json())\n"
   ]
  },
  {
   "cell_type": "markdown",
   "metadata": {},
   "source": [
    "## Text search"
   ]
  },
  {
   "cell_type": "code",
   "execution_count": 148,
   "metadata": {},
   "outputs": [
    {
     "name": "stdout",
     "output_type": "stream",
     "text": [
      "Total count: 2\n"
     ]
    },
    {
     "data": {
      "text/html": [
       "<div>\n",
       "<style scoped>\n",
       "    .dataframe tbody tr th:only-of-type {\n",
       "        vertical-align: middle;\n",
       "    }\n",
       "\n",
       "    .dataframe tbody tr th {\n",
       "        vertical-align: top;\n",
       "    }\n",
       "\n",
       "    .dataframe thead th {\n",
       "        text-align: right;\n",
       "    }\n",
       "</style>\n",
       "<table border=\"1\" class=\"dataframe\">\n",
       "  <thead>\n",
       "    <tr style=\"text-align: right;\">\n",
       "      <th></th>\n",
       "      <th>Title</th>\n",
       "      <th>Author</th>\n",
       "      <th>Text</th>\n",
       "      <th>Created at</th>\n",
       "      <th>Changed at</th>\n",
       "    </tr>\n",
       "  </thead>\n",
       "  <tbody>\n",
       "    <tr>\n",
       "      <th>0</th>\n",
       "      <td>BMW_report</td>\n",
       "      <td>Not specified</td>\n",
       "      <td>JVBERi0xLjcNJeLjz9MNCjE1ODMgMCBvYmoNPDwvTGluZW...</td>\n",
       "      <td>2022-11-02</td>\n",
       "      <td>2022-11-02</td>\n",
       "    </tr>\n",
       "    <tr>\n",
       "      <th>1</th>\n",
       "      <td>MERCEDES_report</td>\n",
       "      <td>Mercedes-Benz Group AG</td>\n",
       "      <td>JVBERi0xLjYNJeLjz9MNCjQ5NjMgMCBvYmoNPDwvRmlsdG...</td>\n",
       "      <td>2022-03-08</td>\n",
       "      <td>2022-03-10</td>\n",
       "    </tr>\n",
       "  </tbody>\n",
       "</table>\n",
       "</div>"
      ],
      "text/plain": [
       "             Title                  Author  \\\n",
       "0       BMW_report           Not specified   \n",
       "1  MERCEDES_report  Mercedes-Benz Group AG   \n",
       "\n",
       "                                                Text  Created at  Changed at  \n",
       "0  JVBERi0xLjcNJeLjz9MNCjE1ODMgMCBvYmoNPDwvTGluZW...  2022-11-02  2022-11-02  \n",
       "1  JVBERi0xLjYNJeLjz9MNCjQ5NjMgMCBvYmoNPDwvRmlsdG...  2022-03-08  2022-03-10  "
      ]
     },
     "metadata": {},
     "output_type": "display_data"
    }
   ],
   "source": [
    "so = esh.EshObject(\n",
    "    count=True,\n",
    "    top=3,\n",
    "    wherefound=True,\n",
    "    scope=['Document'],\n",
    "    searchQueryFilter=esh.Expression(\n",
    "        operator=esh.LogicalOperator.AND,\n",
    "        items=[\n",
    "            esh.Comparison(\n",
    "                property=esh.Property(property=['text']),\n",
    "                operator=esh.ComparisonOperator.Search,\n",
    "                value=esh.StringValue(value='BMW')\n",
    "            )\n",
    "        ]\n",
    "    )\n",
    ")\n",
    "execute_search_query(so.dict(exclude_none=True))"
   ]
  },
  {
   "cell_type": "markdown",
   "metadata": {},
   "source": [
    "## Search for several text snippets"
   ]
  },
  {
   "cell_type": "code",
   "execution_count": 4,
   "metadata": {},
   "outputs": [
    {
     "name": "stdout",
     "output_type": "stream",
     "text": [
      "Total count: 2\n"
     ]
    },
    {
     "data": {
      "text/html": [
       "<div>\n",
       "<style scoped>\n",
       "    .dataframe tbody tr th:only-of-type {\n",
       "        vertical-align: middle;\n",
       "    }\n",
       "\n",
       "    .dataframe tbody tr th {\n",
       "        vertical-align: top;\n",
       "    }\n",
       "\n",
       "    .dataframe thead th {\n",
       "        text-align: right;\n",
       "    }\n",
       "</style>\n",
       "<table border=\"1\" class=\"dataframe\">\n",
       "  <thead>\n",
       "    <tr style=\"text-align: right;\">\n",
       "      <th></th>\n",
       "      <th>Title</th>\n",
       "      <th>Text</th>\n",
       "      <th>Created at</th>\n",
       "      <th>Changed at</th>\n",
       "    </tr>\n",
       "  </thead>\n",
       "  <tbody>\n",
       "    <tr>\n",
       "      <th>0</th>\n",
       "      <td>MERCEDES_report</td>\n",
       "      <td>JVBERi0xLjYNJeLjz9MNCjQ5NjMgMCBvYmoNPDwvRmlsdG...</td>\n",
       "      <td>2022-03-08</td>\n",
       "      <td>2022-03-10</td>\n",
       "    </tr>\n",
       "    <tr>\n",
       "      <th>1</th>\n",
       "      <td>BMW_report</td>\n",
       "      <td>JVBERi0xLjcNJeLjz9MNCjE1ODMgMCBvYmoNPDwvTGluZW...</td>\n",
       "      <td>2022-11-02</td>\n",
       "      <td>2022-11-02</td>\n",
       "    </tr>\n",
       "  </tbody>\n",
       "</table>\n",
       "</div>"
      ],
      "text/plain": [
       "             Title                                               Text  \\\n",
       "0  MERCEDES_report  JVBERi0xLjYNJeLjz9MNCjQ5NjMgMCBvYmoNPDwvRmlsdG...   \n",
       "1       BMW_report  JVBERi0xLjcNJeLjz9MNCjE1ODMgMCBvYmoNPDwvTGluZW...   \n",
       "\n",
       "   Created at  Changed at  \n",
       "0  2022-03-08  2022-03-10  \n",
       "1  2022-11-02  2022-11-02  "
      ]
     },
     "metadata": {},
     "output_type": "display_data"
    }
   ],
   "source": [
    "so = esh.EshObject(\n",
    "    count=True,\n",
    "    top=4,\n",
    "    scope=['Document'],\n",
    "    searchQueryFilter=esh.Expression(\n",
    "        operator=esh.LogicalOperator.AND,\n",
    "        items=[\n",
    "            esh.Comparison(\n",
    "                property=esh.Property(property=['text']),\n",
    "                operator=esh.ComparisonOperator.Search,\n",
    "                value=esh.StringValue(value='BMW Finance')\n",
    "            ),\n",
    "            \n",
    "            esh.Comparison(\n",
    "                property=esh.Property(property=['text']),\n",
    "                operator=esh.ComparisonOperator.Search,\n",
    "                value=esh.StringValue(value='Finance'))\n",
    "        ]\n",
    "    )\n",
    ")\n",
    "execute_search_query(so.dict(exclude_none=True))"
   ]
  },
  {
   "cell_type": "markdown",
   "metadata": {},
   "source": [
    "## Search for explicit numbers"
   ]
  },
  {
   "cell_type": "code",
   "execution_count": 5,
   "metadata": {},
   "outputs": [
    {
     "name": "stdout",
     "output_type": "stream",
     "text": [
      "Total count: 1\n"
     ]
    },
    {
     "data": {
      "text/html": [
       "<div>\n",
       "<style scoped>\n",
       "    .dataframe tbody tr th:only-of-type {\n",
       "        vertical-align: middle;\n",
       "    }\n",
       "\n",
       "    .dataframe tbody tr th {\n",
       "        vertical-align: top;\n",
       "    }\n",
       "\n",
       "    .dataframe thead th {\n",
       "        text-align: right;\n",
       "    }\n",
       "</style>\n",
       "<table border=\"1\" class=\"dataframe\">\n",
       "  <thead>\n",
       "    <tr style=\"text-align: right;\">\n",
       "      <th></th>\n",
       "      <th>Title</th>\n",
       "      <th>Text</th>\n",
       "      <th>Created at</th>\n",
       "      <th>Changed at</th>\n",
       "    </tr>\n",
       "  </thead>\n",
       "  <tbody>\n",
       "    <tr>\n",
       "      <th>0</th>\n",
       "      <td>AUDI_report</td>\n",
       "      <td>JVBERi0xLjcNJeLjz9MNCjE2MTYxIDAgb2JqDTw8L0xpbm...</td>\n",
       "      <td>2022-10-27</td>\n",
       "      <td>2022-11-07</td>\n",
       "    </tr>\n",
       "  </tbody>\n",
       "</table>\n",
       "</div>"
      ],
      "text/plain": [
       "         Title                                               Text  Created at  \\\n",
       "0  AUDI_report  JVBERi0xLjcNJeLjz9MNCjE2MTYxIDAgb2JqDTw8L0xpbm...  2022-10-27   \n",
       "\n",
       "   Changed at  \n",
       "0  2022-11-07  "
      ]
     },
     "metadata": {},
     "output_type": "display_data"
    }
   ],
   "source": [
    "so = esh.EshObject(\n",
    "    count=True,\n",
    "    top=4,\n",
    "    scope=['Document'],\n",
    "    searchQueryFilter=esh.Expression(\n",
    "        operator=esh.LogicalOperator.AND,\n",
    "        items=[\n",
    "            esh.Comparison(\n",
    "                property=esh.Property(property=['text']),\n",
    "                operator=esh.ComparisonOperator.Search,\n",
    "                value=esh.StringValue(value='2,340', isPhrase=True)\n",
    "            )]\n",
    "    )\n",
    ")\n",
    "execute_search_query(so.dict(exclude_none=True))"
   ]
  },
  {
   "cell_type": "markdown",
   "metadata": {},
   "source": [
    "## Search for author"
   ]
  },
  {
   "cell_type": "code",
   "execution_count": 62,
   "metadata": {},
   "outputs": [
    {
     "name": "stdout",
     "output_type": "stream",
     "text": [
      "Total count: 1\n"
     ]
    },
    {
     "data": {
      "text/html": [
       "<div>\n",
       "<style scoped>\n",
       "    .dataframe tbody tr th:only-of-type {\n",
       "        vertical-align: middle;\n",
       "    }\n",
       "\n",
       "    .dataframe tbody tr th {\n",
       "        vertical-align: top;\n",
       "    }\n",
       "\n",
       "    .dataframe thead th {\n",
       "        text-align: right;\n",
       "    }\n",
       "</style>\n",
       "<table border=\"1\" class=\"dataframe\">\n",
       "  <thead>\n",
       "    <tr style=\"text-align: right;\">\n",
       "      <th></th>\n",
       "      <th>Title</th>\n",
       "      <th>Author</th>\n",
       "      <th>Text</th>\n",
       "      <th>Created at</th>\n",
       "      <th>Changed at</th>\n",
       "    </tr>\n",
       "  </thead>\n",
       "  <tbody>\n",
       "    <tr>\n",
       "      <th>0</th>\n",
       "      <td>AUDI_report</td>\n",
       "      <td>Fomenko, Daria (I/FU-23)</td>\n",
       "      <td>JVBERi0xLjcNJeLjz9MNCjE2MTYxIDAgb2JqDTw8L0xpbm...</td>\n",
       "      <td>2022-10-27</td>\n",
       "      <td>2022-11-07</td>\n",
       "    </tr>\n",
       "  </tbody>\n",
       "</table>\n",
       "</div>"
      ],
      "text/plain": [
       "         Title                    Author  \\\n",
       "0  AUDI_report  Fomenko, Daria (I/FU-23)   \n",
       "\n",
       "                                                Text  Created at  Changed at  \n",
       "0  JVBERi0xLjcNJeLjz9MNCjE2MTYxIDAgb2JqDTw8L0xpbm...  2022-10-27  2022-11-07  "
      ]
     },
     "metadata": {},
     "output_type": "display_data"
    }
   ],
   "source": [
    "so = esh.EshObject(\n",
    "    count=True,\n",
    "    top=4,\n",
    "    scope=['Document'],\n",
    "    searchQueryFilter=esh.Expression(\n",
    "        operator=esh.LogicalOperator.AND,\n",
    "        items=[\n",
    "            esh.Comparison(\n",
    "                property=esh.Property(property=['author']),\n",
    "                operator=esh.ComparisonOperator.Search,\n",
    "                value=esh.StringValue(value='Daria')\n",
    "            )]\n",
    "    )\n",
    ")\n",
    "execute_search_query(so.dict(exclude_none=True))"
   ]
  },
  {
   "cell_type": "markdown",
   "metadata": {},
   "source": [
    "## Search for date when the documents were created"
   ]
  },
  {
   "cell_type": "code",
   "execution_count": 117,
   "metadata": {},
   "outputs": [
    {
     "name": "stdout",
     "output_type": "stream",
     "text": [
      "Total count: 1\n"
     ]
    },
    {
     "data": {
      "text/html": [
       "<div>\n",
       "<style scoped>\n",
       "    .dataframe tbody tr th:only-of-type {\n",
       "        vertical-align: middle;\n",
       "    }\n",
       "\n",
       "    .dataframe tbody tr th {\n",
       "        vertical-align: top;\n",
       "    }\n",
       "\n",
       "    .dataframe thead th {\n",
       "        text-align: right;\n",
       "    }\n",
       "</style>\n",
       "<table border=\"1\" class=\"dataframe\">\n",
       "  <thead>\n",
       "    <tr style=\"text-align: right;\">\n",
       "      <th></th>\n",
       "      <th>Title</th>\n",
       "      <th>Author</th>\n",
       "      <th>Text</th>\n",
       "      <th>Created at</th>\n",
       "      <th>Changed at</th>\n",
       "    </tr>\n",
       "  </thead>\n",
       "  <tbody>\n",
       "    <tr>\n",
       "      <th>0</th>\n",
       "      <td>AUDI_report</td>\n",
       "      <td>Fomenko, Daria (I/FU-23)</td>\n",
       "      <td>JVBERi0xLjcNJeLjz9MNCjE2MTYxIDAgb2JqDTw8L0xpbm...</td>\n",
       "      <td>2022-10-27</td>\n",
       "      <td>2022-11-07</td>\n",
       "    </tr>\n",
       "  </tbody>\n",
       "</table>\n",
       "</div>"
      ],
      "text/plain": [
       "         Title                    Author  \\\n",
       "0  AUDI_report  Fomenko, Daria (I/FU-23)   \n",
       "\n",
       "                                                Text  Created at  Changed at  \n",
       "0  JVBERi0xLjcNJeLjz9MNCjE2MTYxIDAgb2JqDTw8L0xpbm...  2022-10-27  2022-11-07  "
      ]
     },
     "metadata": {},
     "output_type": "display_data"
    }
   ],
   "source": [
    "so = esh.EshObject(\n",
    "    count=True,\n",
    "    top=4,\n",
    "    scope=['Document'],\n",
    "    searchQueryFilter=esh.Expression(\n",
    "        operator=esh.LogicalOperator.AND,\n",
    "        items=[\n",
    "            esh.Comparison(\n",
    "                property=esh.Property(property=['createdAt']),\n",
    "                operator=esh.ComparisonOperator.Search,\n",
    "                value=esh.StringValue(value='2022-10-27')\n",
    "            )]\n",
    "    )\n",
    ")\n",
    "execute_search_query(so.dict(exclude_none=True))"
   ]
  },
  {
   "cell_type": "markdown",
   "metadata": {},
   "source": [
    "## Fuzzy Search"
   ]
  },
  {
   "cell_type": "code",
   "execution_count": 152,
   "metadata": {},
   "outputs": [
    {
     "name": "stdout",
     "output_type": "stream",
     "text": [
      "Total count: 4\n"
     ]
    },
    {
     "data": {
      "text/html": [
       "<div>\n",
       "<style scoped>\n",
       "    .dataframe tbody tr th:only-of-type {\n",
       "        vertical-align: middle;\n",
       "    }\n",
       "\n",
       "    .dataframe tbody tr th {\n",
       "        vertical-align: top;\n",
       "    }\n",
       "\n",
       "    .dataframe thead th {\n",
       "        text-align: right;\n",
       "    }\n",
       "</style>\n",
       "<table border=\"1\" class=\"dataframe\">\n",
       "  <thead>\n",
       "    <tr style=\"text-align: right;\">\n",
       "      <th></th>\n",
       "      <th>Title</th>\n",
       "      <th>Author</th>\n",
       "      <th>Text</th>\n",
       "      <th>Created at</th>\n",
       "      <th>Changed at</th>\n",
       "    </tr>\n",
       "  </thead>\n",
       "  <tbody>\n",
       "    <tr>\n",
       "      <th>0</th>\n",
       "      <td>AUDI_report</td>\n",
       "      <td>Fomenko, Daria (I/FU-23)</td>\n",
       "      <td>JVBERi0xLjcNJeLjz9MNCjE2MTYxIDAgb2JqDTw8L0xpbm...</td>\n",
       "      <td>2022-10-27</td>\n",
       "      <td>2022-11-07</td>\n",
       "    </tr>\n",
       "    <tr>\n",
       "      <th>1</th>\n",
       "      <td>VW_financial_services_report</td>\n",
       "      <td>Not specified</td>\n",
       "      <td>JVBERi0xLjcNJeLjz9MNCjg4OSAwIG9iag08PC9MaW5lYX...</td>\n",
       "      <td>2022-03-23</td>\n",
       "      <td>2022-04-06</td>\n",
       "    </tr>\n",
       "    <tr>\n",
       "      <th>2</th>\n",
       "      <td>PORSCHE_report</td>\n",
       "      <td>Not specified</td>\n",
       "      <td>JVBERi0xLjcNJeLjz9MNCjQxMTkgMCBvYmoNPDwvTGluZW...</td>\n",
       "      <td>2021-03-21</td>\n",
       "      <td>2021-03-22</td>\n",
       "    </tr>\n",
       "    <tr>\n",
       "      <th>3</th>\n",
       "      <td>MERCEDES_report</td>\n",
       "      <td>Mercedes-Benz Group AG</td>\n",
       "      <td>JVBERi0xLjYNJeLjz9MNCjQ5NjMgMCBvYmoNPDwvRmlsdG...</td>\n",
       "      <td>2022-03-08</td>\n",
       "      <td>2022-03-10</td>\n",
       "    </tr>\n",
       "  </tbody>\n",
       "</table>\n",
       "</div>"
      ],
      "text/plain": [
       "                          Title                    Author  \\\n",
       "0                   AUDI_report  Fomenko, Daria (I/FU-23)   \n",
       "1  VW_financial_services_report             Not specified   \n",
       "2                PORSCHE_report             Not specified   \n",
       "3               MERCEDES_report    Mercedes-Benz Group AG   \n",
       "\n",
       "                                                Text  Created at  Changed at  \n",
       "0  JVBERi0xLjcNJeLjz9MNCjE2MTYxIDAgb2JqDTw8L0xpbm...  2022-10-27  2022-11-07  \n",
       "1  JVBERi0xLjcNJeLjz9MNCjg4OSAwIG9iag08PC9MaW5lYX...  2022-03-23  2022-04-06  \n",
       "2  JVBERi0xLjcNJeLjz9MNCjQxMTkgMCBvYmoNPDwvTGluZW...  2021-03-21  2021-03-22  \n",
       "3  JVBERi0xLjYNJeLjz9MNCjQ5NjMgMCBvYmoNPDwvRmlsdG...  2022-03-08  2022-03-10  "
      ]
     },
     "metadata": {},
     "output_type": "display_data"
    }
   ],
   "source": [
    "so = esh.EshObject(\n",
    "    count=True,\n",
    "    # top=1,\n",
    "    scope=['Document'],\n",
    "    searchQueryFilter=esh.Expression(\n",
    "        operator=esh.LogicalOperator.AND,\n",
    "        items=[\n",
    "            esh.Comparison(\n",
    "                property=esh.Property(property=['text']),\n",
    "                operator=esh.ComparisonOperator.Search,\n",
    "                value=esh.StringValue(\n",
    "                    value='stretgy', # strategy\n",
    "                    searchOptions=esh.SearchOptions(fuzzinessThreshold=0.7)\n",
    "                )\n",
    "            )\n",
    "        ]\n",
    "    )\n",
    ")\n",
    "\n",
    "execute_search_query(so.dict(exclude_none=True))"
   ]
  },
  {
   "cell_type": "markdown",
   "metadata": {},
   "source": [
    "## Search for creation time ranges"
   ]
  },
  {
   "cell_type": "code",
   "execution_count": 151,
   "metadata": {},
   "outputs": [
    {
     "name": "stdout",
     "output_type": "stream",
     "text": [
      "Total count: 0\n",
      "No results\n"
     ]
    }
   ],
   "source": [
    "so = esh.EshObject(\n",
    "    count=True,\n",
    "    top=4,\n",
    "    scope=['Document'],\n",
    "    searchQueryFilter=esh.Expression(\n",
    "        operator=esh.LogicalOperator.AND,\n",
    "        items=[\n",
    "            esh.Comparison(\n",
    "                property=esh.Property(property=['createdAt']),\n",
    "                operator=esh.ComparisonOperator.Search,\n",
    "                value=esh.StringValue(value='[2022-10-01 2022-10-31]')\n",
    "            )]\n",
    "    )\n",
    ")\n",
    "execute_search_query(so.dict(exclude_none=True))"
   ]
  },
  {
   "cell_type": "markdown",
   "metadata": {},
   "source": [
    "## Search for explizit text in a file"
   ]
  },
  {
   "cell_type": "code",
   "execution_count": 154,
   "metadata": {},
   "outputs": [
    {
     "name": "stdout",
     "output_type": "stream",
     "text": [
      "Total count: 1\n"
     ]
    },
    {
     "data": {
      "text/html": [
       "<div>\n",
       "<style scoped>\n",
       "    .dataframe tbody tr th:only-of-type {\n",
       "        vertical-align: middle;\n",
       "    }\n",
       "\n",
       "    .dataframe tbody tr th {\n",
       "        vertical-align: top;\n",
       "    }\n",
       "\n",
       "    .dataframe thead th {\n",
       "        text-align: right;\n",
       "    }\n",
       "</style>\n",
       "<table border=\"1\" class=\"dataframe\">\n",
       "  <thead>\n",
       "    <tr style=\"text-align: right;\">\n",
       "      <th></th>\n",
       "      <th>Title</th>\n",
       "      <th>Author</th>\n",
       "      <th>Text</th>\n",
       "      <th>Created at</th>\n",
       "      <th>Changed at</th>\n",
       "    </tr>\n",
       "  </thead>\n",
       "  <tbody>\n",
       "    <tr>\n",
       "      <th>0</th>\n",
       "      <td>MERCEDES_report</td>\n",
       "      <td>Mercedes-Benz Group AG</td>\n",
       "      <td>JVBERi0xLjYNJeLjz9MNCjQ5NjMgMCBvYmoNPDwvRmlsdG...</td>\n",
       "      <td>2022-03-08</td>\n",
       "      <td>2022-03-10</td>\n",
       "    </tr>\n",
       "  </tbody>\n",
       "</table>\n",
       "</div>"
      ],
      "text/plain": [
       "             Title                  Author  \\\n",
       "0  MERCEDES_report  Mercedes-Benz Group AG   \n",
       "\n",
       "                                                Text  Created at  Changed at  \n",
       "0  JVBERi0xLjYNJeLjz9MNCjQ5NjMgMCBvYmoNPDwvRmlsdG...  2022-03-08  2022-03-10  "
      ]
     },
     "metadata": {},
     "output_type": "display_data"
    }
   ],
   "source": [
    "so = esh.EshObject(\n",
    "    count=True,\n",
    "    top=4,\n",
    "    scope=['Document'],\n",
    "    searchQueryFilter=esh.Expression(\n",
    "        operator=esh.LogicalOperator.AND,\n",
    "        items=[\n",
    "            esh.Comparison(\n",
    "                property=esh.Property(property=['text']),\n",
    "                operator=esh.ComparisonOperator.Search,\n",
    "                value=esh.StringValue(value='BMW Group und Daimler Mobility veräußern PARK NOW an EasyPark Group', isPhrase=True)\n",
    "            )]\n",
    "    )\n",
    ")\n",
    "execute_search_query(so.dict(exclude_none=True))"
   ]
  }
 ],
 "metadata": {
  "kernelspec": {
   "display_name": "Python 3.10.6 64-bit",
   "language": "python",
   "name": "python3"
  },
  "language_info": {
   "codemirror_mode": {
    "name": "ipython",
    "version": 3
   },
   "file_extension": ".py",
   "mimetype": "text/x-python",
   "name": "python",
   "nbconvert_exporter": "python",
   "pygments_lexer": "ipython3",
   "version": "3.10.6"
  },
  "orig_nbformat": 4,
  "vscode": {
   "interpreter": {
    "hash": "f8512305d299d2e9fc6762953164f306cccf922e65b280e5794fe70a35a18825"
   }
  }
 },
 "nbformat": 4,
 "nbformat_minor": 2
}
