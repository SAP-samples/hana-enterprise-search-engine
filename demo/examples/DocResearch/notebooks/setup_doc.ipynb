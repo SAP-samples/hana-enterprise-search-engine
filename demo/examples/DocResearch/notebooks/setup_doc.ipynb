{
 "cells": [
  {
   "cell_type": "markdown",
   "metadata": {},
   "source": [
    "## Initialize"
   ]
  },
  {
   "cell_type": "code",
   "execution_count": 126,
   "metadata": {},
   "outputs": [],
   "source": [
    "\n",
    "import requests\n",
    "import pandas as pd\n",
    "import os\n",
    "import sys\n",
    "from datetime import datetime\n",
    "from ipywidgets import Dropdown\n",
    "import json\n",
    "import base64\n",
    "import requests\n",
    "\n",
    "import fitz\n",
    "\n",
    "\n",
    "from PyPDF2 import PdfFileReader\n",
    "\n",
    "sys.path.append(os.path.join(sys.path[0], '..', '..', '..', '..'))\n",
    "import src.esh_client as esh\n",
    "from demo.shared.tools import TENANT_SUFFIX, get_base_url, get_root_path\n",
    "\n",
    "headers = {'Content-Type': 'application/json'}\n",
    "base_url = get_base_url()\n",
    "\n"
   ]
  },
  {
   "cell_type": "markdown",
   "metadata": {},
   "source": [
    "## Choose file folder"
   ]
  },
  {
   "cell_type": "code",
   "execution_count": 2,
   "metadata": {},
   "outputs": [
    {
     "data": {
      "application/vnd.jupyter.widget-view+json": {
       "model_id": "959380ed4c1a4a25b9481e2406afa76d",
       "version_major": 2,
       "version_minor": 0
      },
      "text/plain": [
       "Dropdown(description='Select:', options=('externDocuments', 'internDocuments'), value=None)"
      ]
     },
     "execution_count": 2,
     "metadata": {},
     "output_type": "execute_result"
    }
   ],
   "source": [
    "folder_path = os.path.join('..')\n",
    "options = next(os.walk(folder_path))[1]\n",
    "options.remove('notebooks')\n",
    "selected = Dropdown(\n",
    "    options=options,\n",
    "    description='Select:',\n",
    "    value = None,\n",
    "    disabled=False,\n",
    ")\n",
    "selected"
   ]
  },
  {
   "cell_type": "markdown",
   "metadata": {},
   "source": [
    "## Take all files from folder"
   ]
  },
  {
   "cell_type": "code",
   "execution_count": 216,
   "metadata": {},
   "outputs": [
    {
     "name": "stdout",
     "output_type": "stream",
     "text": [
      "AUDI_report Created at: 2022-10-27 Changed at: 2022-11-07\n",
      "68 120\n",
      "BMW_report Created at: 2022-11-02 Changed at: 2022-11-02\n",
      "75 106\n"
     ]
    },
    {
     "name": "stderr",
     "output_type": "stream",
     "text": [
      "Xref table not zero-indexed. ID numbers for objects will be corrected.\n"
     ]
    },
    {
     "name": "stdout",
     "output_type": "stream",
     "text": [
      "MERCEDES_report Created at: 2022-03-08 Changed at: 2022-03-10\n",
      "106 75\n",
      "PORSCHE_report Created at: 2021-03-21 Changed at: 2021-03-22\n",
      "106 75\n",
      "TESLA_report Created at: 2022-10-19 Changed at: 2022-10-19\n",
      "112 198\n",
      "TOYOTA_report Created at: 2021-08-23 Changed at: 2021-08-23\n",
      "106 75\n",
      "VW_financial_services_report Created at: 2022-03-23 Changed at: 2022-04-06\n",
      "101 77\n"
     ]
    }
   ],
   "source": [
    "if selected.value:\n",
    "    payload_list = []\n",
    "    # Get files path\n",
    "    current_path = os.path.join(sys.path[0], '..', selected.value)\n",
    "    # Iterate about the folder with all files\n",
    "    for filename in os.listdir(current_path):\n",
    "        # Read PDF File and encode to base64\n",
    "        with open(os.path.join(current_path, filename), 'rb') as f:  # open in readonly mode\n",
    "            filename = filename.replace('.pdf', '')\n",
    "\n",
    "            # encode to base64\n",
    "            encoded_string = base64.b64encode(f.read())\n",
    "            encoded_doc = encoded_string.decode('ascii')\n",
    "\n",
    "            # Get file info\n",
    "            pdf = PdfFileReader(f)\n",
    "            info = pdf.getDocumentInfo()\n",
    "            created_at = str(info.creation_date)\n",
    "            created_at_string = created_at[0:10]\n",
    "            changed_at = str(info.modification_date)\n",
    "            changed_at_string = changed_at[0:10]\n",
    "            print(filename + ' Created at: ' + created_at_string +\n",
    "                  ' Changed at: ' + changed_at_string)\n",
    "            if info.author == None:\n",
    "                author = 'Not specified'\n",
    "            else:\n",
    "                author = info.author\n",
    "\n",
    "\n",
    "           \n",
    "            #get image\n",
    "            pdf_file = fitz.open(os.path.join(current_path, filename) + '.pdf')\n",
    "            page = pdf_file[0]\n",
    "            image_page = page.get_pixmap()\n",
    "            image_page.shrink(4)\n",
    "            # image_page.pixel(50,50)\n",
    "            print(image_page.height, image_page.width)\n",
    "            # image_page.save(f\"page.png\")\n",
    "            image_page.save(f'../image/{filename}.png')\n",
    "            filePath = os.path.join(sys.path[0], filename+\".png\")\n",
    "\n",
    "            # with open(filePath, \"rb\") as img:\n",
    "\n",
    "            #     encoded_image = base64.b64encode(img.read())\n",
    "            #     encoded_image_string = encoded_image.decode('ascii')\n",
    "\n",
    "            # image_list = page.get_images()\n",
    "            \n",
    "            # for image_index, img in enumerate(page.get_images(), start=0):\n",
    "            #     xref = img[0]\n",
    "                \n",
    "            #     base_image = pdf_file.extract_image(xref)\n",
    "            #     image_bytes = base_image['image']\n",
    "            #     stream = io.BytesIO(image_bytes)\n",
    "            #     img2 = Image.open(stream)\n",
    "            #     # img2.size(50,50)\n",
    "            #     print(img2.height, img2.width)\n",
    "            #     img2.show()\n",
    "            #     image_sequence = img2.getdata()\n",
    "            #     # image_array = np(image_sequence)\n",
    "            #     image_array = np.asarray(image_sequence)\n",
    "            #     image_Ext = base_image['ext']\n",
    "            #     break\n",
    "            fileUrl = 'https://github.com/sahinis/hana-enterprise-search-engine/tree/dev/demo/examples/DocResearch/image/'+ filename +'.png'\n",
    "            # Append to JSON\n",
    "            payload = json.dumps({\n",
    "                'Document': [\n",
    "                    {   \n",
    "                        'image': fileUrl,#encoded_image_string,\n",
    "                        'title': filename,\n",
    "                        'author': author,\n",
    "                        'text': encoded_doc,\n",
    "                        'createdAt': created_at_string,\n",
    "                        'changedAt': changed_at_string\n",
    "                    }\n",
    "                ]\n",
    "            }, indent=2\n",
    "            )\n",
    "            payload_list.append(payload)\n",
    "\n",
    "else:\n",
    "    print('No folder selected for PDF files')\n"
   ]
  },
  {
   "cell_type": "markdown",
   "metadata": {},
   "source": [
    "## Post data to server"
   ]
  },
  {
   "cell_type": "code",
   "execution_count": 219,
   "metadata": {},
   "outputs": [
    {
     "name": "stdout",
     "output_type": "stream",
     "text": [
      "{\"Document\":[{\"id\":\"6334e0df-61a3-11ed-9b5b-88d82e07e733\"}]}\n",
      "{\"Document\":[{\"id\":\"6424d752-61a3-11ed-b7e7-88d82e07e733\"}]}\n",
      "{\"Document\":[{\"id\":\"645304dc-61a3-11ed-b4e6-88d82e07e733\"}]}\n",
      "{\"Document\":[{\"id\":\"64ea1a8f-61a3-11ed-9350-88d82e07e733\"}]}\n",
      "{\"Document\":[{\"id\":\"675ce31a-61a3-11ed-9afe-88d82e07e733\"}]}\n",
      "{\"Document\":[{\"id\":\"69f86b1b-61a3-11ed-9ce7-88d82e07e733\"}]}\n",
      "{\"Document\":[{\"id\":\"6a2e7c50-61a3-11ed-af6d-88d82e07e733\"}]}\n"
     ]
    }
   ],
   "source": [
    "for element in payload_list:\n",
    "    response = requests.request(\"POST\", f'{base_url}/v1/data/DocResearchDemoExample', headers=headers, data=element)\n",
    "\n",
    "    print(response.text)"
   ]
  }
 ],
 "metadata": {
  "kernelspec": {
   "display_name": "Python 3.10.6 64-bit",
   "language": "python",
   "name": "python3"
  },
  "language_info": {
   "codemirror_mode": {
    "name": "ipython",
    "version": 3
   },
   "file_extension": ".py",
   "mimetype": "text/x-python",
   "name": "python",
   "nbconvert_exporter": "python",
   "pygments_lexer": "ipython3",
   "version": "3.10.6"
  },
  "orig_nbformat": 4,
  "vscode": {
   "interpreter": {
    "hash": "f8512305d299d2e9fc6762953164f306cccf922e65b280e5794fe70a35a18825"
   }
  }
 },
 "nbformat": 4,
 "nbformat_minor": 2
}
