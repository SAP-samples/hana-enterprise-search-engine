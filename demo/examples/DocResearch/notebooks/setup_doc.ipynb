{
 "cells": [
  {
   "cell_type": "markdown",
   "metadata": {},
   "source": [
    "## Initialize"
   ]
  },
  {
   "cell_type": "code",
   "execution_count": null,
   "metadata": {},
   "outputs": [],
   "source": [
    "\n",
    "import requests\n",
    "import pandas as pd\n",
    "import os\n",
    "import sys\n",
    "from datetime import datetime\n",
    "from ipywidgets import Dropdown\n",
    "import json\n",
    "import base64\n",
    "import requests\n",
    "from dateutil.parser import parse\n",
    "import fitz\n",
    "\n",
    "\n",
    "from PyPDF2 import PdfFileReader\n",
    "from docx2pdf import convert\n",
    "import docx\n",
    "# import docs\n",
    "\n",
    "\n",
    "\n",
    "sys.path.append(os.path.join(sys.path[0], '..', '..', '..', '..'))\n",
    "import src.esh_client as esh\n",
    "from demo.shared.tools import TENANT_SUFFIX, get_base_url, get_root_path\n",
    "\n",
    "headers = {'Content-Type': 'application/json'}\n",
    "base_url = get_base_url()\n",
    "\n",
    "def get_doc_type(filename):\n",
    "    print(filename)\n",
    "\n"
   ]
  },
  {
   "cell_type": "markdown",
   "metadata": {},
   "source": [
    "## Choose file folder"
   ]
  },
  {
   "cell_type": "code",
   "execution_count": null,
   "metadata": {},
   "outputs": [],
   "source": [
    "folder_path = os.path.join('..')\n",
    "options = next(os.walk(folder_path))[1]\n",
    "options.remove('notebooks')\n",
    "selected = Dropdown(\n",
    "    options=options,\n",
    "    description='Select:',\n",
    "    value = None,\n",
    "    disabled=False,\n",
    ")\n",
    "selected"
   ]
  },
  {
   "cell_type": "markdown",
   "metadata": {},
   "source": [
    "## Take all files from folder"
   ]
  },
  {
   "cell_type": "code",
   "execution_count": null,
   "metadata": {},
   "outputs": [],
   "source": [
    "if selected.value:\n",
    "    payload_list = []\n",
    "    # Get files path\n",
    "    current_path = os.path.join(sys.path[0], '..', selected.value)\n",
    "    # Iterate about the folder with all files\n",
    "    for filename in os.listdir(current_path):\n",
    "        docType = ''\n",
    "        filename_blank = ''\n",
    "        created_at_string = ''\n",
    "        changed_at_string = ''\n",
    "        author = ''\n",
    "        encoded_img = ''\n",
    "        encoded_doc = ''\n",
    "        # Read PDF File and encode to base64\n",
    "        with open(os.path.join(current_path, filename), 'rb') as f:  # open in readonly mode\n",
    "            if filename.endswith('pdf'):\n",
    "                docType = 'PDF'\n",
    "                filename_blank = filename.replace('.pdf', '')\n",
    "\n",
    "                # encode to base64\n",
    "                encoded_string = base64.b64encode(f.read())\n",
    "                encoded_doc = encoded_string.decode('ascii')\n",
    "\n",
    "                # Get file info\n",
    "                pdf = PdfFileReader(f)\n",
    "                info = pdf.getDocumentInfo()\n",
    "\n",
    "                created_at = str(info.creation_date_raw)\n",
    "                created_at_string = created_at[2:10]\n",
    "                changed_at = str(info.modification_date_raw)\n",
    "                changed_at_string = changed_at[2:10]\n",
    "                print(filename_blank + ' Created at: ' + created_at_string +\n",
    "                      ' Changed at: ' + changed_at_string)\n",
    "                if info.author == None:\n",
    "                    author = 'Not specified'\n",
    "                else:\n",
    "                    author = info.author\n",
    "\n",
    "                # get image\n",
    "                pdf_file = fitz.open(os.path.join(\n",
    "                    current_path, filename))\n",
    "                page = pdf_file[0]\n",
    "                image_page = page.get_pixmap()\n",
    "                image_page.shrink(2)\n",
    "                encoded_string_img = base64.b64encode(image_page.tobytes())\n",
    "                encoded_img = encoded_string_img.decode('ascii')\n",
    "                encoded_img = 'data:;base64,' + encoded_img\n",
    "\n",
    "                \n",
    "            elif filename.endswith('doc'):\n",
    "                \n",
    "                docType = 'DOC'\n",
    "                filename_blank = filename.replace('.doc', '')\n",
    "\n",
    "                # encode to base64\n",
    "                encoded_string = base64.b64encode(f.read())\n",
    "                encoded_doc = encoded_string.decode('ascii')\n",
    "                  \n",
    "            elif filename.endswith('docx'):\n",
    "                docType = 'DOCX'\n",
    "                filename_blank = filename.replace('.docx', '')\n",
    "\n",
    "                # encode to base64\n",
    "                encoded_string = base64.b64encode(f.read())\n",
    "                encoded_doc = encoded_string.decode('ascii')\n",
    "                \n",
    "                                \n",
    "            elif filename.endswith('xls'):\n",
    "                docType = 'XLS'\n",
    "                filename_blank = filename.replace('.xls', '')\n",
    "\n",
    "                # encode to base64\n",
    "                encoded_string = base64.b64encode(f.read())\n",
    "                encoded_doc = encoded_string.decode('ascii')\n",
    "                \n",
    "                                \n",
    "            elif filename.endswith('xlsx'):\n",
    "                docType = 'XLSX'\n",
    "                filename_blank = filename.replace('.xlsx', '')\n",
    "\n",
    "                # encode to base64\n",
    "                encoded_string = base64.b64encode(f.read())\n",
    "                encoded_doc = encoded_string.decode('ascii')\n",
    "                \n",
    "                                \n",
    "            elif filename.endswith('msg'):\n",
    "                docType = 'MSG'\n",
    "                filename_blank = filename.replace('.msg', '')\n",
    "\n",
    "                # encode to base64\n",
    "                encoded_string = base64.b64encode(f.read())\n",
    "                encoded_doc = encoded_string.decode('ascii')\n",
    "                \n",
    "                                \n",
    "            # Append to JSON\n",
    "            payload = json.dumps({\n",
    "                'Document': [\n",
    "                    {\n",
    "                        'image': encoded_img,\n",
    "                        'title': filename_blank,\n",
    "                        'author': author,\n",
    "                        'text': encoded_doc,\n",
    "                        'createdAt': created_at_string,\n",
    "                        'changedAt': changed_at_string,\n",
    "                        'docType': docType\n",
    "                    }\n",
    "                ]\n",
    "            }, indent=2\n",
    "            )\n",
    "            payload_list.append(payload)\n",
    "            \n",
    "else:\n",
    "    print('No folder selected for files')\n"
   ]
  },
  {
   "cell_type": "markdown",
   "metadata": {},
   "source": [
    "## Post data to server"
   ]
  },
  {
   "cell_type": "code",
   "execution_count": null,
   "metadata": {},
   "outputs": [],
   "source": [
    "for element in payload_list:\n",
    "    response = requests.request(\"POST\", f'{base_url}/v1/data/DocResearchDemoExample', headers=headers, data=element)\n",
    "\n",
    "    print(response.text)"
   ]
  }
 ],
 "metadata": {
  "kernelspec": {
   "display_name": "Python 3.10.6 64-bit",
   "language": "python",
   "name": "python3"
  },
  "language_info": {
   "codemirror_mode": {
    "name": "ipython",
    "version": 3
   },
   "file_extension": ".py",
   "mimetype": "text/x-python",
   "name": "python",
   "nbconvert_exporter": "python",
   "pygments_lexer": "ipython3",
   "version": "3.10.6"
  },
  "orig_nbformat": 4,
  "vscode": {
   "interpreter": {
    "hash": "f8512305d299d2e9fc6762953164f306cccf922e65b280e5794fe70a35a18825"
   }
  }
 },
 "nbformat": 4,
 "nbformat_minor": 2
}
