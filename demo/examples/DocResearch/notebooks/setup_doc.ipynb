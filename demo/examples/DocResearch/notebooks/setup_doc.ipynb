{
 "cells": [
  {
   "cell_type": "markdown",
   "metadata": {},
   "source": [
    "## Initialize"
   ]
  },
  {
   "cell_type": "code",
   "execution_count": 1,
   "metadata": {},
   "outputs": [],
   "source": [
    "\n",
    "import requests\n",
    "import pandas as pd\n",
    "import os\n",
    "import sys\n",
    "from datetime import datetime\n",
    "from ipywidgets import Dropdown\n",
    "import json\n",
    "import base64\n",
    "import requests\n",
    "\n",
    "from PyPDF2 import PdfFileReader\n",
    "\n",
    "sys.path.append(os.path.join(sys.path[0], '..', '..', '..', '..'))\n",
    "import src.esh_client as esh\n",
    "from demo.shared.tools import TENANT_SUFFIX, get_base_url, get_root_path\n",
    "\n",
    "headers = {'Content-Type': 'application/json'}\n",
    "base_url = get_base_url()\n",
    "\n"
   ]
  },
  {
   "cell_type": "markdown",
   "metadata": {},
   "source": [
    "## Choose file folder"
   ]
  },
  {
   "cell_type": "code",
   "execution_count": 2,
   "metadata": {},
   "outputs": [
    {
     "data": {
      "application/vnd.jupyter.widget-view+json": {
       "model_id": "959380ed4c1a4a25b9481e2406afa76d",
       "version_major": 2,
       "version_minor": 0
      },
      "text/plain": [
       "Dropdown(description='Select:', options=('externDocuments', 'internDocuments'), value=None)"
      ]
     },
     "execution_count": 2,
     "metadata": {},
     "output_type": "execute_result"
    }
   ],
   "source": [
    "folder_path = os.path.join('..')\n",
    "options = next(os.walk(folder_path))[1]\n",
    "options.remove('notebooks')\n",
    "selected = Dropdown(\n",
    "    options=options,\n",
    "    description='Select:',\n",
    "    value = None,\n",
    "    disabled=False,\n",
    ")\n",
    "selected"
   ]
  },
  {
   "cell_type": "markdown",
   "metadata": {},
   "source": [
    "## Take all files from folder"
   ]
  },
  {
   "cell_type": "code",
   "execution_count": 16,
   "metadata": {},
   "outputs": [
    {
     "name": "stderr",
     "output_type": "stream",
     "text": [
      "Xref table not zero-indexed. ID numbers for objects will be corrected.\n"
     ]
    },
    {
     "name": "stdout",
     "output_type": "stream",
     "text": [
      "AUDI_report Created at: 2022-10-27 Changed at: 2022-11-07\n",
      "BMW_report Created at: 2022-11-02 Changed at: 2022-11-02\n",
      "MERCEDES_report Created at: 2022-03-08 Changed at: 2022-03-10\n",
      "PORSCHE_report Created at: 2021-03-21 Changed at: 2021-03-22\n",
      "TESLA_report Created at: 2022-10-19 Changed at: 2022-10-19\n",
      "TOYOTA_report Created at: 2021-08-23 Changed at: 2021-08-23\n",
      "VW_financial_services_report Created at: 2022-03-23 Changed at: 2022-04-06\n"
     ]
    }
   ],
   "source": [
    "if selected.value:\n",
    "    payload_list = []\n",
    "    # Get files path\n",
    "    current_path = os.path.join(sys.path[0], '..', selected.value)\n",
    "    # Iterate about the folder with all files\n",
    "    for filename in os.listdir(current_path):\n",
    "        # Read PDF File and encode to base64\n",
    "        with open(os.path.join(current_path, filename), 'rb') as f:  # open in readonly mode\n",
    "            filename = filename.replace('.pdf', '')\n",
    "\n",
    "            # encode to base64\n",
    "            encoded_string = base64.b64encode(f.read())\n",
    "            encoded_doc = encoded_string.decode('ascii')\n",
    "\n",
    "            # Get file info\n",
    "            pdf = PdfFileReader(f)\n",
    "            info = pdf.getDocumentInfo()\n",
    "            created_at = str(info.creation_date)\n",
    "            created_at_string = created_at[0:10]\n",
    "            changed_at = str(info.modification_date)\n",
    "            changed_at_string = changed_at[0:10]\n",
    "            print(filename + ' Created at: ' + created_at_string +\n",
    "                  ' Changed at: ' + changed_at_string)\n",
    "\n",
    "            # Append to JSON\n",
    "            payload = json.dumps({\n",
    "                'Document': [\n",
    "                    {\n",
    "                        'title': filename,\n",
    "                        'text': encoded_doc,\n",
    "                        'createdAt': created_at_string,\n",
    "                        'changedAt': changed_at_string\n",
    "                    }\n",
    "                ]\n",
    "            }, indent=2\n",
    "            )\n",
    "            payload_list.append(payload)\n",
    "\n",
    "else:\n",
    "    print('No folder selected for PDF files')\n"
   ]
  },
  {
   "cell_type": "markdown",
   "metadata": {},
   "source": [
    "## Post data to server"
   ]
  },
  {
   "cell_type": "code",
   "execution_count": 17,
   "metadata": {},
   "outputs": [
    {
     "name": "stdout",
     "output_type": "stream",
     "text": [
      "{\"Document\":[{\"id\":\"ad5a8f37-5f3c-11ed-87dc-88d82e07e733\"}]}\n",
      "{\"Document\":[{\"id\":\"ae4b4ce0-5f3c-11ed-b6e1-88d82e07e733\"}]}\n",
      "{\"Document\":[{\"id\":\"ae6faa67-5f3c-11ed-aef4-88d82e07e733\"}]}\n",
      "{\"Document\":[{\"id\":\"aefb5171-5f3c-11ed-96bf-88d82e07e733\"}]}\n",
      "{\"Document\":[{\"id\":\"b148d480-5f3c-11ed-8b9a-88d82e07e733\"}]}\n",
      "{\"Document\":[{\"id\":\"b3c74931-5f3c-11ed-b6a3-88d82e07e733\"}]}\n",
      "{\"Document\":[{\"id\":\"b3f7d6c3-5f3c-11ed-84c8-88d82e07e733\"}]}\n"
     ]
    }
   ],
   "source": [
    "for element in payload_list:\n",
    "    response = requests.request(\"POST\", f'{base_url}/v1/data/DocResearchDemoExample', headers=headers, data=element)\n",
    "\n",
    "    print(response.text)"
   ]
  }
 ],
 "metadata": {
  "kernelspec": {
   "display_name": "Python 3.10.6 64-bit",
   "language": "python",
   "name": "python3"
  },
  "language_info": {
   "codemirror_mode": {
    "name": "ipython",
    "version": 3
   },
   "file_extension": ".py",
   "mimetype": "text/x-python",
   "name": "python",
   "nbconvert_exporter": "python",
   "pygments_lexer": "ipython3",
   "version": "3.10.6"
  },
  "orig_nbformat": 4,
  "vscode": {
   "interpreter": {
    "hash": "f8512305d299d2e9fc6762953164f306cccf922e65b280e5794fe70a35a18825"
   }
  }
 },
 "nbformat": 4,
 "nbformat_minor": 2
}
