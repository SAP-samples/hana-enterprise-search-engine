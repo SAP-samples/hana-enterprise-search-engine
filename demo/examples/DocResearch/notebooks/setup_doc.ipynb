{
 "cells": [
  {
   "cell_type": "markdown",
   "metadata": {},
   "source": [
    "## Initialize"
   ]
  },
  {
   "cell_type": "code",
   "execution_count": 5,
   "metadata": {},
   "outputs": [
    {
     "ename": "ModuleNotFoundError",
     "evalue": "No module named 'docs'",
     "output_type": "error",
     "traceback": [
      "\u001b[1;31m---------------------------------------------------------------------------\u001b[0m",
      "\u001b[1;31mModuleNotFoundError\u001b[0m                       Traceback (most recent call last)",
      "Cell \u001b[1;32mIn [5], line 17\u001b[0m\n\u001b[0;32m     15\u001b[0m \u001b[39mfrom\u001b[39;00m \u001b[39mdocx2pdf\u001b[39;00m \u001b[39mimport\u001b[39;00m convert\n\u001b[0;32m     16\u001b[0m \u001b[39mimport\u001b[39;00m \u001b[39mdocx\u001b[39;00m\n\u001b[1;32m---> 17\u001b[0m \u001b[39mimport\u001b[39;00m \u001b[39mdocs\u001b[39;00m\n\u001b[0;32m     21\u001b[0m sys\u001b[39m.\u001b[39mpath\u001b[39m.\u001b[39mappend(os\u001b[39m.\u001b[39mpath\u001b[39m.\u001b[39mjoin(sys\u001b[39m.\u001b[39mpath[\u001b[39m0\u001b[39m], \u001b[39m'\u001b[39m\u001b[39m..\u001b[39m\u001b[39m'\u001b[39m, \u001b[39m'\u001b[39m\u001b[39m..\u001b[39m\u001b[39m'\u001b[39m, \u001b[39m'\u001b[39m\u001b[39m..\u001b[39m\u001b[39m'\u001b[39m, \u001b[39m'\u001b[39m\u001b[39m..\u001b[39m\u001b[39m'\u001b[39m))\n\u001b[0;32m     22\u001b[0m \u001b[39mimport\u001b[39;00m \u001b[39msrc\u001b[39;00m\u001b[39m.\u001b[39;00m\u001b[39mesh_client\u001b[39;00m \u001b[39mas\u001b[39;00m \u001b[39mesh\u001b[39;00m\n",
      "\u001b[1;31mModuleNotFoundError\u001b[0m: No module named 'docs'"
     ]
    }
   ],
   "source": [
    "\n",
    "import requests\n",
    "import pandas as pd\n",
    "import os\n",
    "import sys\n",
    "from datetime import datetime\n",
    "from ipywidgets import Dropdown\n",
    "import json\n",
    "import base64\n",
    "import requests\n",
    "from dateutil.parser import parse\n",
    "import fitz\n",
    "\n",
    "\n",
    "from PyPDF2 import PdfFileReader\n",
    "from docx2pdf import convert\n",
    "import docx\n",
    "# import docs\n",
    "\n",
    "\n",
    "\n",
    "sys.path.append(os.path.join(sys.path[0], '..', '..', '..', '..'))\n",
    "import src.esh_client as esh\n",
    "from demo.shared.tools import TENANT_SUFFIX, get_base_url, get_root_path\n",
    "\n",
    "headers = {'Content-Type': 'application/json'}\n",
    "base_url = get_base_url()\n",
    "\n",
    "def get_doc_type(filename):\n",
    "    print(filename)\n",
    "\n"
   ]
  },
  {
   "cell_type": "markdown",
   "metadata": {},
   "source": [
    "## Choose file folder"
   ]
  },
  {
   "cell_type": "code",
   "execution_count": 2,
   "metadata": {},
   "outputs": [
    {
     "data": {
      "application/vnd.jupyter.widget-view+json": {
       "model_id": "d1663b3dd9974facab8d0f912fd73674",
       "version_major": 2,
       "version_minor": 0
      },
      "text/plain": [
       "Dropdown(description='Select:', options=('externDocuments', 'internDocuments'), value=None)"
      ]
     },
     "execution_count": 2,
     "metadata": {},
     "output_type": "execute_result"
    }
   ],
   "source": [
    "folder_path = os.path.join('..')\n",
    "options = next(os.walk(folder_path))[1]\n",
    "options.remove('notebooks')\n",
    "selected = Dropdown(\n",
    "    options=options,\n",
    "    description='Select:',\n",
    "    value = None,\n",
    "    disabled=False,\n",
    ")\n",
    "selected"
   ]
  },
  {
   "cell_type": "markdown",
   "metadata": {},
   "source": [
    "## Take all files from folder"
   ]
  },
  {
   "cell_type": "code",
   "execution_count": 25,
   "metadata": {},
   "outputs": [
    {
     "name": "stdout",
     "output_type": "stream",
     "text": [
      "086 - EfCCNa - European federation of Critical Care Nursing associations Created at: 20070123 Changed at: 20070123\n",
      "CHAP(2009)00056-UK-Complaint_Redacted Created at: 20090930 Changed at: 20220920\n",
      "CHAP(2015)00863 Created at: 20160204 Changed at: 20220926\n",
      "CHAP(2015)01249 Created at: 20180427 Changed at: 20220926\n",
      "CHAP(2015)01347 Created at: 20180426 Changed at: 20220926\n"
     ]
    },
    {
     "name": "stderr",
     "output_type": "stream",
     "text": [
      "Xref table not zero-indexed. ID numbers for objects will be corrected.\n"
     ]
    },
    {
     "name": "stdout",
     "output_type": "stream",
     "text": [
      "handbook on implementation of the services directive-gp_eudor_WEB_KM7807096ENC_002 Created at: 20071217 Changed at: 20080121\n",
      "Implementation Report 2020 Created at: 20200511 Changed at: 20200511\n",
      "SWD 2012-148 implementation SD Created at: 20120608 Changed at: 20120608\n",
      "user guide PQD EN Created at: 20200716 Changed at: 20220914\n"
     ]
    }
   ],
   "source": [
    "if selected.value:\n",
    "    payload_list = []\n",
    "    # Get files path\n",
    "    current_path = os.path.join(sys.path[0], '..', selected.value)\n",
    "    # Iterate about the folder with all files\n",
    "    for filename in os.listdir(current_path):\n",
    "        docType = ''\n",
    "        filename_blank = ''\n",
    "        created_at_string = ''\n",
    "        changed_at_string = ''\n",
    "        author = ''\n",
    "        encoded_img = ''\n",
    "        encoded_doc = ''\n",
    "        # Read PDF File and encode to base64\n",
    "        with open(os.path.join(current_path, filename), 'rb') as f:  # open in readonly mode\n",
    "            if filename.endswith('pdf'):\n",
    "                docType = 'PDF'\n",
    "                filename_blank = filename.replace('.pdf', '')\n",
    "\n",
    "                # encode to base64\n",
    "                encoded_string = base64.b64encode(f.read())\n",
    "                encoded_doc = encoded_string.decode('ascii')\n",
    "\n",
    "                # Get file info\n",
    "                pdf = PdfFileReader(f)\n",
    "                info = pdf.getDocumentInfo()\n",
    "\n",
    "                created_at = str(info.creation_date_raw)\n",
    "                created_at_string = created_at[2:10]\n",
    "                changed_at = str(info.modification_date_raw)\n",
    "                changed_at_string = changed_at[2:10]\n",
    "                print(filename_blank + ' Created at: ' + created_at_string +\n",
    "                      ' Changed at: ' + changed_at_string)\n",
    "                if info.author == None:\n",
    "                    author = 'Not specified'\n",
    "                else:\n",
    "                    author = info.author\n",
    "\n",
    "                # get image\n",
    "                pdf_file = fitz.open(os.path.join(\n",
    "                    current_path, filename))\n",
    "                page = pdf_file[0]\n",
    "                image_page = page.get_pixmap()\n",
    "                image_page.shrink(2)\n",
    "                encoded_string_img = base64.b64encode(image_page.tobytes())\n",
    "                encoded_img = encoded_string_img.decode('ascii')\n",
    "                encoded_img = 'data:;base64,' + encoded_img\n",
    "\n",
    "                \n",
    "            elif filename.endswith('doc'):\n",
    "                \n",
    "                docType = 'DOC'\n",
    "                filename_blank = filename.replace('.doc', '')\n",
    "\n",
    "                # encode to base64\n",
    "                encoded_string = base64.b64encode(f.read())\n",
    "                encoded_doc = encoded_string.decode('ascii')\n",
    "                  \n",
    "            elif filename.endswith('docx'):\n",
    "                docType = 'DOCX'\n",
    "                filename_blank = filename.replace('.docx', '')\n",
    "\n",
    "                # encode to base64\n",
    "                encoded_string = base64.b64encode(f.read())\n",
    "                encoded_doc = encoded_string.decode('ascii')\n",
    "                \n",
    "                                \n",
    "            elif filename.endswith('xls'):\n",
    "                docType = 'XLS'\n",
    "                filename_blank = filename.replace('.xls', '')\n",
    "\n",
    "                # encode to base64\n",
    "                encoded_string = base64.b64encode(f.read())\n",
    "                encoded_doc = encoded_string.decode('ascii')\n",
    "                \n",
    "                                \n",
    "            elif filename.endswith('xlsx'):\n",
    "                docType = 'XLSX'\n",
    "                filename_blank = filename.replace('.xlsx', '')\n",
    "\n",
    "                # encode to base64\n",
    "                encoded_string = base64.b64encode(f.read())\n",
    "                encoded_doc = encoded_string.decode('ascii')\n",
    "                \n",
    "                                \n",
    "            elif filename.endswith('msg'):\n",
    "                docType = 'MSG'\n",
    "                filename_blank = filename.replace('.msg', '')\n",
    "\n",
    "                # encode to base64\n",
    "                encoded_string = base64.b64encode(f.read())\n",
    "                encoded_doc = encoded_string.decode('ascii')\n",
    "                \n",
    "                                \n",
    "            # Append to JSON\n",
    "            payload = json.dumps({\n",
    "                'Document': [\n",
    "                    {\n",
    "                        'image': encoded_img,\n",
    "                        'title': filename_blank,\n",
    "                        'author': author,\n",
    "                        'text': encoded_doc,\n",
    "                        'createdAt': created_at_string,\n",
    "                        'changedAt': changed_at_string,\n",
    "                        'docType': docType\n",
    "                    }\n",
    "                ]\n",
    "            }, indent=2\n",
    "            )\n",
    "            payload_list.append(payload)\n",
    "            \n",
    "else:\n",
    "    print('No folder selected for files')\n"
   ]
  },
  {
   "cell_type": "markdown",
   "metadata": {},
   "source": [
    "## Post data to server"
   ]
  },
  {
   "cell_type": "code",
   "execution_count": 23,
   "metadata": {},
   "outputs": [
    {
     "name": "stdout",
     "output_type": "stream",
     "text": [
      "{\"Document\":[{\"id\":\"7d107380-6748-11ed-9e5c-88d82e07e733\"}]}\n",
      "{\"Document\":[{\"id\":\"7d2c3cda-6748-11ed-8de7-88d82e07e733\"}]}\n",
      "{\"Document\":[{\"id\":\"7d42d50c-6748-11ed-9020-88d82e07e733\"}]}\n",
      "{\"Document\":[{\"id\":\"7d63e49b-6748-11ed-89f6-88d82e07e733\"}]}\n",
      "{\"Document\":[{\"id\":\"7d767508-6748-11ed-920d-88d82e07e733\"}]}\n",
      "{\"Document\":[{\"id\":\"7d86e3d3-6748-11ed-8660-88d82e07e733\"}]}\n",
      "{\"Document\":[{\"id\":\"7d993f78-6748-11ed-aed1-88d82e07e733\"}]}\n",
      "{\"Document\":[{\"id\":\"7daadb0b-6748-11ed-a967-88d82e07e733\"}]}\n",
      "{\"Document\":[{\"id\":\"7dbc13d5-6748-11ed-a0a0-88d82e07e733\"}]}\n",
      "{\"Document\":[{\"id\":\"7dcf1b3c-6748-11ed-9d4d-88d82e07e733\"}]}\n",
      "{\"Document\":[{\"id\":\"7de1e231-6748-11ed-be45-88d82e07e733\"}]}\n",
      "{\"Document\":[{\"id\":\"7df33328-6748-11ed-80a9-88d82e07e733\"}]}\n",
      "{\"Document\":[{\"id\":\"7e07adfb-6748-11ed-b0ab-88d82e07e733\"}]}\n",
      "{\"Document\":[{\"id\":\"7e236185-6748-11ed-9490-88d82e07e733\"}]}\n",
      "{\"Document\":[{\"id\":\"7e3734fe-6748-11ed-8096-88d82e07e733\"}]}\n",
      "{\"Document\":[{\"id\":\"7e63687e-6748-11ed-8675-88d82e07e733\"}]}\n",
      "{\"Document\":[{\"id\":\"7e741ca5-6748-11ed-8086-88d82e07e733\"}]}\n",
      "{\"Document\":[{\"id\":\"7e855338-6748-11ed-96dc-88d82e07e733\"}]}\n",
      "{\"Document\":[{\"id\":\"7e96eecc-6748-11ed-b976-88d82e07e733\"}]}\n",
      "{\"Document\":[{\"id\":\"7ea88f66-6748-11ed-8568-88d82e07e733\"}]}\n",
      "{\"Document\":[{\"id\":\"7eb8dfea-6748-11ed-911c-88d82e07e733\"}]}\n",
      "{\"Document\":[{\"id\":\"7ecd045a-6748-11ed-af12-88d82e07e733\"}]}\n",
      "{\"Document\":[{\"id\":\"7edea7a3-6748-11ed-92a4-88d82e07e733\"}]}\n",
      "{\"Document\":[{\"id\":\"7ef9be26-6748-11ed-91af-88d82e07e733\"}]}\n",
      "{\"Document\":[{\"id\":\"7f2b5eb9-6748-11ed-a2f4-88d82e07e733\"}]}\n",
      "{\"Document\":[{\"id\":\"7f3ebc1d-6748-11ed-b07d-88d82e07e733\"}]}\n",
      "{\"Document\":[{\"id\":\"7f506f49-6748-11ed-9063-88d82e07e733\"}]}\n",
      "{\"Document\":[{\"id\":\"7f61986b-6748-11ed-97a1-88d82e07e733\"}]}\n",
      "{\"Document\":[{\"id\":\"7f72152f-6748-11ed-a1f4-88d82e07e733\"}]}\n",
      "{\"Document\":[{\"id\":\"7f831eb0-6748-11ed-8275-88d82e07e733\"}]}\n",
      "{\"Document\":[{\"id\":\"7f94d3c8-6748-11ed-85e6-88d82e07e733\"}]}\n",
      "{\"Document\":[{\"id\":\"7fa60175-6748-11ed-94f7-88d82e07e733\"}]}\n",
      "{\"Document\":[{\"id\":\"7fc54662-6748-11ed-866f-88d82e07e733\"}]}\n",
      "{\"Document\":[{\"id\":\"7fda26fa-6748-11ed-8177-88d82e07e733\"}]}\n",
      "{\"Document\":[{\"id\":\"812714d1-6748-11ed-88fe-88d82e07e733\"}]}\n",
      "{\"Document\":[{\"id\":\"81d656f6-6748-11ed-a98e-88d82e07e733\"}]}\n",
      "{\"Document\":[{\"id\":\"820b873d-6748-11ed-9aca-88d82e07e733\"}]}\n",
      "{\"Document\":[{\"id\":\"825a7ed9-6748-11ed-84da-88d82e07e733\"}]}\n"
     ]
    }
   ],
   "source": [
    "for element in payload_list:\n",
    "    response = requests.request(\"POST\", f'{base_url}/v1/data/DocResearchDemoExample', headers=headers, data=element)\n",
    "\n",
    "    print(response.text)"
   ]
  }
 ],
 "metadata": {
  "kernelspec": {
   "display_name": "Python 3.10.6 64-bit",
   "language": "python",
   "name": "python3"
  },
  "language_info": {
   "codemirror_mode": {
    "name": "ipython",
    "version": 3
   },
   "file_extension": ".py",
   "mimetype": "text/x-python",
   "name": "python",
   "nbconvert_exporter": "python",
   "pygments_lexer": "ipython3",
   "version": "3.10.6"
  },
  "orig_nbformat": 4,
  "vscode": {
   "interpreter": {
    "hash": "f8512305d299d2e9fc6762953164f306cccf922e65b280e5794fe70a35a18825"
   }
  }
 },
 "nbformat": 4,
 "nbformat_minor": 2
}
