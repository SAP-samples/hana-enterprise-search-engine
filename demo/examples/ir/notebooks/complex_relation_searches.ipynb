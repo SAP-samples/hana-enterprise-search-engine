{
 "cells": [
  {
   "cell_type": "markdown",
   "metadata": {},
   "source": [
    "### Initialize"
   ]
  },
  {
   "cell_type": "code",
   "execution_count": 30,
   "metadata": {},
   "outputs": [],
   "source": [
    "\n",
    "import requests\n",
    "import pandas as pd\n",
    "import os\n",
    "import sys\n",
    "from datetime import datetime\n",
    "\n",
    "sys.path.append(os.path.join(sys.path[0], '..', '..', '..', '..'))\n",
    "import src.esh_client as esh\n",
    "from demo.shared.tools import TENANT_SUFFIX, get_base_url, get_root_path\n",
    "\n",
    "base_url = get_base_url()\n",
    "root_path = get_root_path()\n",
    "example_name = sys.path[0].split(os.sep)[-2]\n",
    "\n",
    "\n",
    "def execute_search_query(query):\n",
    "    r = requests.post(\n",
    "        f'{base_url}/v1/query/{example_name}{TENANT_SUFFIX}/latest', json=[query])\n",
    "    if r.status_code == 200:\n",
    "        res = r.json()[0]\n",
    "        if '@odata.count' in res:\n",
    "            print(f'Total count: {res[\"@odata.count\"]}')\n",
    "        if res and 'value' in res and res['value']:\n",
    "            df = pd.DataFrame.from_dict(res['value'])[\n",
    "                ['firstName', 'lastName', 'age']]\n",
    "            df.rename(columns={'firstName': 'First Name',\n",
    "                      'lastName': 'Last Name', 'age': 'Age'}, inplace=True)\n",
    "            display(df)\n",
    "        else:\n",
    "            print('No results')\n",
    "    else:\n",
    "        print(f'Error during search. HTTP status code {r.status_code}')\n",
    "        print(r.json())\n",
    "\n",
    "\n",
    "def execute_search_queries(search_objects): \n",
    "    queries = [ so.dict(exclude_none=True) for so in search_objects ]\n",
    "    r = requests.post(\n",
    "        f'{base_url}/v1/query/{example_name}{TENANT_SUFFIX}/latest', json=queries)\n",
    "    if r.status_code == 200:\n",
    "        res = r.json()[0]\n",
    "        if '@odata.count' in res:\n",
    "            print(f'Total count: {res[\"@odata.count\"]}')\n",
    "        if res and 'value' in res and res['value']:\n",
    "            df = pd.DataFrame.from_dict(res['value'])[\n",
    "                ['entityDesc']]\n",
    "            df.rename(columns={'entityDesc': 'Description'}, inplace=True)\n",
    "            display(df)\n",
    "        else:\n",
    "            print('No results')\n",
    "    else:\n",
    "        print(f'Error during search. HTTP status code {r.status_code}')\n",
    "        print(r.json())\n",
    "\n"
   ]
  },
  {
   "cell_type": "markdown",
   "metadata": {},
   "source": [
    "### Search for a Person where the Location of its is in London\n",
    "--> It is searched for a person where a location of a person is related to London"
   ]
  },
  {
   "cell_type": "code",
   "execution_count": null,
   "metadata": {},
   "outputs": [],
   "source": [
    "so = esh.EshObject(\n",
    "    count=True,\n",
    "    # top=1,\n",
    "    scope=['Person'],\n",
    "    searchQueryFilter=esh.Expression(\n",
    "        operator=esh.LogicalOperator.AND,\n",
    "        items=[\n",
    "            esh.Comparison(\n",
    "                property=esh.Property(\n",
    "                    property=['relLocation', 'location', 'city']),\n",
    "                operator=esh.ComparisonOperator.Search,\n",
    "                value=esh.StringValue(value='London'))\n",
    "        ]))\n",
    "\n",
    "execute_search_query(so.dict(exclude_none=True))\n"
   ]
  },
  {
   "cell_type": "markdown",
   "metadata": {},
   "source": [
    "## Search for a Person where the case is about money laundering\n",
    "--> It is searched for a person who is involved in money laundering "
   ]
  },
  {
   "cell_type": "code",
   "execution_count": null,
   "metadata": {},
   "outputs": [],
   "source": [
    "so = esh.EshObject(\n",
    "    count=True,\n",
    "    # top=1,\n",
    "    scope=['Person'],\n",
    "    searchQueryFilter=esh.Expression(\n",
    "        operator=esh.LogicalOperator.AND,\n",
    "        items=[\n",
    "            esh.Comparison(\n",
    "                property=esh.Property(\n",
    "                    property=['relCases', 'cases', 'entityDesc']),\n",
    "                operator=esh.ComparisonOperator.Search,\n",
    "                value=esh.StringValue(value='Kennedy A: Money Laundering', isPhrase=True))  # String search with spaces and semi colons not possible\n",
    "        ]))\n",
    "\n",
    "execute_search_query(so.dict(exclude_none=True))\n"
   ]
  },
  {
   "cell_type": "markdown",
   "metadata": {},
   "source": [
    "## Search for persons where the case contains the words \"Kennedy Money Laundering\""
   ]
  },
  {
   "cell_type": "code",
   "execution_count": null,
   "metadata": {},
   "outputs": [],
   "source": [
    "so = esh.EshObject(\n",
    "    count=True,\n",
    "    # top=1,\n",
    "    scope=['Person'],\n",
    "    searchQueryFilter=esh.Expression(\n",
    "        operator=esh.LogicalOperator.AND,\n",
    "        items=[\n",
    "            esh.Comparison(\n",
    "                property=esh.Property(\n",
    "                    property=['relCases', 'cases', 'entityDesc']),\n",
    "                operator=esh.ComparisonOperator.Search,\n",
    "                value=esh.StringValue(value='Kennedy Money Laundering', doEshEscaping=True))  # String search with spaces and semi colons not possible\n",
    "        ]))\n",
    "\n",
    "execute_search_query(so.dict(exclude_none=True))"
   ]
  },
  {
   "cell_type": "markdown",
   "metadata": {},
   "source": [
    "## Search for Persons where the case is about money laundering and the leads includes \"payment\"\n",
    "--> This is an enhancment of the query before. It is searched for the payments of the money laundering"
   ]
  },
  {
   "cell_type": "code",
   "execution_count": null,
   "metadata": {},
   "outputs": [],
   "source": [
    "so = esh.EshObject(\n",
    "    count=True,\n",
    "    # top=1,\n",
    "    scope=['Person'],\n",
    "    searchQueryFilter=esh.Expression(\n",
    "        operator=esh.LogicalOperator.AND,\n",
    "        items=[\n",
    "            esh.Comparison(\n",
    "                property=esh.Property(\n",
    "                    property=['relCases', 'cases', 'relLeads', 'lead', 'entityDesc']),\n",
    "                operator=esh.ComparisonOperator.Search,\n",
    "                value=esh.StringValue(value='Kennedy J Cash payment', doEshEscaping=True)) \n",
    "        ]))\n",
    "\n",
    "execute_search_query(so.dict(exclude_none=True))\n"
   ]
  },
  {
   "cell_type": "markdown",
   "metadata": {},
   "source": [
    "## Search for the time range of the payments when the person did the money laundering\n",
    "--> This is an enhancement of the query before. It is searched for the time ranges when the payments were done"
   ]
  },
  {
   "cell_type": "code",
   "execution_count": null,
   "metadata": {},
   "outputs": [],
   "source": [
    "so = esh.EshObject(\n",
    "    count=True,\n",
    "    # top=1,\n",
    "    scope=['Person'],\n",
    "    searchQueryFilter=esh.Expression(\n",
    "        operator=esh.LogicalOperator.AND,\n",
    "        items=[\n",
    "            esh.Comparison(\n",
    "                property=esh.Property(\n",
    "                    property=['relCases', 'cases', 'relLeads', 'lead', 'entityTime']),\n",
    "                operator=esh.ComparisonOperator.Search,\n",
    "                value=esh.StringValue(value='[2013-01-01 2019-12-12]'))  # String search with spaces and semi colons not possible\n",
    "        ]))\n",
    "\n",
    "execute_search_query(so.dict(exclude_none=True))\n"
   ]
  },
  {
   "cell_type": "markdown",
   "metadata": {},
   "source": [
    "## Search for a case where the actvity was a phone intercept between J Kennedy and B Ramage"
   ]
  },
  {
   "cell_type": "code",
   "execution_count": null,
   "metadata": {},
   "outputs": [],
   "source": [
    "so = esh.EshObject(\n",
    "    count=True,\n",
    "    # top=1,\n",
    "    scope=['Cases'],\n",
    "    searchQueryFilter=esh.Expression(\n",
    "        operator=esh.LogicalOperator.AND,\n",
    "        items=[\n",
    "            esh.Comparison(\n",
    "                property=esh.Property(\n",
    "                    property=['relActivity', 'activity', 'entityDesc']),\n",
    "                operator=esh.ComparisonOperator.Search,\n",
    "                value=esh.StringValue(value='Phone intercept: J Kennedy - B Ramage', isPhrase=True))  # String search with spaces and semi colons not possible\n",
    "        ]))\n",
    "\n",
    "\n",
    "r = requests.post(\n",
    "    f'{base_url}/v1/query/{example_name}{TENANT_SUFFIX}/latest', json=[so.dict()])\n",
    "if r.status_code == 200:\n",
    "    res = r.json()[0]\n",
    "    if '@odata.count' in res:\n",
    "        print(f'Total count: {res[\"@odata.count\"]}')\n",
    "    if res and 'value' in res and res['value']:\n",
    "        df = pd.DataFrame.from_dict(res['value'])[\n",
    "            ['entityDesc', 'entityTime', 'caseStartDate', 'caseSummary', 'priority']]\n",
    "        df.rename(columns={\n",
    "            'entityDesc': 'Descritpion', 'entityTime': 'Time', 'caseStartDate': 'Start Date', 'caseSummary': 'Summary', 'priority': 'Priority'}, inplace=True)\n",
    "        display(df)\n",
    "    else:\n",
    "        print('No results')\n",
    "else:\n",
    "    print(f'Error during search. HTTP status code {r.status_code}')\n",
    "    print(r.json())\n"
   ]
  },
  {
   "cell_type": "markdown",
   "metadata": {},
   "source": [
    "## Search for the objects P Lomez of an activity"
   ]
  },
  {
   "cell_type": "code",
   "execution_count": null,
   "metadata": {},
   "outputs": [],
   "source": [
    "so = esh.EshObject(\n",
    "    count=True,\n",
    "    # top=1,\n",
    "    scope=['Activity'],\n",
    "    searchQueryFilter=esh.Expression(\n",
    "        operator=esh.LogicalOperator.AND,\n",
    "        items=[\n",
    "            esh.Comparison(\n",
    "                property=esh.Property(\n",
    "                    property=['relObject', 'object', 'entityDesc']),\n",
    "                operator=esh.ComparisonOperator.Search,\n",
    "                value=esh.StringValue(value='P lomez*', doEshEscaping=True))  # String search with spaces and semi colons not possible\n",
    "        ]))\n",
    "\n",
    "\n",
    "r = requests.post(\n",
    "    f'{base_url}/v1/query/{example_name}{TENANT_SUFFIX}/latest', json=[so.dict()])\n",
    "if r.status_code == 200:\n",
    "    res = r.json()[0]\n",
    "    if '@odata.count' in res:\n",
    "        print(f'Total count: {res[\"@odata.count\"]}')\n",
    "    if res and 'value' in res and res['value']:\n",
    "        df = pd.DataFrame.from_dict(res['value'])[\n",
    "            ['entityDesc', 'entityTime']]\n",
    "        df.rename(columns={\n",
    "            'entityDesc': 'Descritpion', 'entityTime': 'Time'}, inplace=True)\n",
    "        display(df)\n",
    "    else:\n",
    "        print('No results')\n",
    "else:\n",
    "    print(f'Error during search. HTTP status code {r.status_code}')\n",
    "    print(r.json())\n"
   ]
  },
  {
   "cell_type": "markdown",
   "metadata": {},
   "source": [
    "## Search for persons who has an incident with \"Threat of violence\" at the location \"Dingley Apartments, Braddon\""
   ]
  },
  {
   "cell_type": "code",
   "execution_count": null,
   "metadata": {},
   "outputs": [],
   "source": [
    "so = esh.EshObject(\n",
    "    count=True,\n",
    "    # top=1,\n",
    "    scope=['Person'],\n",
    "    searchQueryFilter=esh.Expression(\n",
    "        operator=esh.LogicalOperator.AND,\n",
    "        items=[\n",
    "            esh.Comparison(\n",
    "                property=esh.Property(\n",
    "                    property=['relIncident', 'incident', 'entityDesc']),\n",
    "                operator=esh.ComparisonOperator.Search,\n",
    "                value=esh.StringValue(value='Threat of violence')), \n",
    "            esh.Comparison(\n",
    "                property=esh.Property(\n",
    "                    property=['relIncident', 'incident', 'location']),\n",
    "                operator=esh.ComparisonOperator.Search,\n",
    "                value=esh.StringValue(value='Dingley Apartments, Braddon', doEshEscaping=True)\n",
    "            )\n",
    "        ]))\n",
    "\n",
    "execute_search_query(so.dict(exclude_none=True))\n"
   ]
  },
  {
   "cell_type": "markdown",
   "metadata": {},
   "source": [
    "## Search for witness who reported the incident \"Threat of violence Kennedy Gomez\""
   ]
  },
  {
   "cell_type": "code",
   "execution_count": null,
   "metadata": {},
   "outputs": [],
   "source": [
    "\n",
    "so = esh.EshObject(\n",
    "    count=True,\n",
    "    # top=1,\n",
    "    scope=['Person'],\n",
    "    searchQueryFilter=esh.Expression(\n",
    "        operator=esh.LogicalOperator.AND,\n",
    "        items=[\n",
    "            esh.Comparison(\n",
    "                property=esh.Property(\n",
    "                    property=['relIncident', 'relTypeCode', 'description']),\n",
    "                operator=esh.ComparisonOperator.Search,\n",
    "                value=esh.StringValue(value='Witness'))\n",
    "                ,  \n",
    "            esh.Comparison(\n",
    "                property=esh.Property(\n",
    "                    property=['relIncident','incident','entityDesc']),\n",
    "                operator=esh.ComparisonOperator.Search,\n",
    "                value=esh.StringValue(value='Threat of violence Kennedy Gomez', doEshEscaping=True))    \n",
    "\n",
    "        ]))\n",
    "\n",
    "execute_search_query(so.dict(exclude_none=True))"
   ]
  },
  {
   "cell_type": "markdown",
   "metadata": {},
   "source": [
    "## Search for persons who has relationships to each other #1"
   ]
  },
  {
   "cell_type": "code",
   "execution_count": 47,
   "metadata": {},
   "outputs": [
    {
     "name": "stdout",
     "output_type": "stream",
     "text": [
      "Total count: 3\n"
     ]
    },
    {
     "data": {
      "text/html": [
       "<div>\n",
       "<style scoped>\n",
       "    .dataframe tbody tr th:only-of-type {\n",
       "        vertical-align: middle;\n",
       "    }\n",
       "\n",
       "    .dataframe tbody tr th {\n",
       "        vertical-align: top;\n",
       "    }\n",
       "\n",
       "    .dataframe thead th {\n",
       "        text-align: right;\n",
       "    }\n",
       "</style>\n",
       "<table border=\"1\" class=\"dataframe\">\n",
       "  <thead>\n",
       "    <tr style=\"text-align: right;\">\n",
       "      <th></th>\n",
       "      <th>First Name</th>\n",
       "      <th>Last Name</th>\n",
       "      <th>Age</th>\n",
       "    </tr>\n",
       "  </thead>\n",
       "  <tbody>\n",
       "    <tr>\n",
       "      <th>0</th>\n",
       "      <td>Joseph</td>\n",
       "      <td>Kennedy</td>\n",
       "      <td>36</td>\n",
       "    </tr>\n",
       "    <tr>\n",
       "      <th>1</th>\n",
       "      <td>Alex</td>\n",
       "      <td>Kennedy</td>\n",
       "      <td>57</td>\n",
       "    </tr>\n",
       "    <tr>\n",
       "      <th>2</th>\n",
       "      <td>Phillipe</td>\n",
       "      <td>Lomez</td>\n",
       "      <td>28</td>\n",
       "    </tr>\n",
       "  </tbody>\n",
       "</table>\n",
       "</div>"
      ],
      "text/plain": [
       "  First Name Last Name  Age\n",
       "0     Joseph   Kennedy   36\n",
       "1       Alex   Kennedy   57\n",
       "2   Phillipe     Lomez   28"
      ]
     },
     "metadata": {},
     "output_type": "display_data"
    }
   ],
   "source": [
    "\n",
    "so = esh.EshObject(\n",
    "    count=True,\n",
    "    # top=1,\n",
    "    scope=['Person'],\n",
    "    searchQueryFilter=esh.Expression(\n",
    "        operator=esh.LogicalOperator.OR,\n",
    "        items=[\n",
    "            esh.Comparison(\n",
    "                property=esh.Property(\n",
    "                    property=['relCases', 'cases', 'relPerson', 'person' ,'firstName']), #'relLocation','location','relPerson','person',\n",
    "                operator=esh.ComparisonOperator.Search,\n",
    "                value=esh.StringValue(value='Alex')),\n",
    "            esh.Comparison(\n",
    "                property=esh.Property(\n",
    "                    property=['relObject','object','relPerson','person','firstName']),\n",
    "                operator=esh.ComparisonOperator.Search,\n",
    "                value=esh.StringValue(value='Alex'))  \n",
    "\n",
    "        ]))\n",
    "\n",
    "execute_search_query(so.dict(exclude_none=True))"
   ]
  },
  {
   "cell_type": "markdown",
   "metadata": {},
   "source": [
    "## Search for persons who has relationships to each other #2"
   ]
  },
  {
   "cell_type": "code",
   "execution_count": 22,
   "metadata": {},
   "outputs": [
    {
     "name": "stdout",
     "output_type": "stream",
     "text": [
      "Total count: 7\n"
     ]
    },
    {
     "data": {
      "text/html": [
       "<div>\n",
       "<style scoped>\n",
       "    .dataframe tbody tr th:only-of-type {\n",
       "        vertical-align: middle;\n",
       "    }\n",
       "\n",
       "    .dataframe tbody tr th {\n",
       "        vertical-align: top;\n",
       "    }\n",
       "\n",
       "    .dataframe thead th {\n",
       "        text-align: right;\n",
       "    }\n",
       "</style>\n",
       "<table border=\"1\" class=\"dataframe\">\n",
       "  <thead>\n",
       "    <tr style=\"text-align: right;\">\n",
       "      <th></th>\n",
       "      <th>First Name</th>\n",
       "      <th>Last Name</th>\n",
       "      <th>Age</th>\n",
       "    </tr>\n",
       "  </thead>\n",
       "  <tbody>\n",
       "    <tr>\n",
       "      <th>0</th>\n",
       "      <td>Joseph</td>\n",
       "      <td>Kennedy</td>\n",
       "      <td>36</td>\n",
       "    </tr>\n",
       "    <tr>\n",
       "      <th>1</th>\n",
       "      <td>Alex</td>\n",
       "      <td>Kennedy</td>\n",
       "      <td>57</td>\n",
       "    </tr>\n",
       "    <tr>\n",
       "      <th>2</th>\n",
       "      <td>Phillipe</td>\n",
       "      <td>Lomez</td>\n",
       "      <td>28</td>\n",
       "    </tr>\n",
       "    <tr>\n",
       "      <th>3</th>\n",
       "      <td>Jerry</td>\n",
       "      <td>Roberts</td>\n",
       "      <td>37</td>\n",
       "    </tr>\n",
       "    <tr>\n",
       "      <th>4</th>\n",
       "      <td>Hilda</td>\n",
       "      <td>Friedel</td>\n",
       "      <td>51</td>\n",
       "    </tr>\n",
       "    <tr>\n",
       "      <th>5</th>\n",
       "      <td>Rosario</td>\n",
       "      <td>Gomez</td>\n",
       "      <td>42</td>\n",
       "    </tr>\n",
       "    <tr>\n",
       "      <th>6</th>\n",
       "      <td>Rogerio</td>\n",
       "      <td>Gomez</td>\n",
       "      <td>42</td>\n",
       "    </tr>\n",
       "  </tbody>\n",
       "</table>\n",
       "</div>"
      ],
      "text/plain": [
       "  First Name Last Name  Age\n",
       "0     Joseph   Kennedy   36\n",
       "1       Alex   Kennedy   57\n",
       "2   Phillipe     Lomez   28\n",
       "3      Jerry   Roberts   37\n",
       "4      Hilda   Friedel   51\n",
       "5    Rosario     Gomez   42\n",
       "6    Rogerio     Gomez   42"
      ]
     },
     "metadata": {},
     "output_type": "display_data"
    }
   ],
   "source": [
    "\n",
    "so = esh.EshObject(\n",
    "    count=True,\n",
    "    # top=1,\n",
    "    scope=['Person'],\n",
    "    searchQueryFilter=esh.Expression(\n",
    "        operator=esh.LogicalOperator.OR,\n",
    "        items=[\n",
    "            esh.Comparison(\n",
    "                property=esh.Property(\n",
    "                    property=['relCases', 'cases', 'relPerson', 'person' ,'firstName']), #'relLocation','location','relPerson','person',\n",
    "                operator=esh.ComparisonOperator.Search,\n",
    "                value=esh.StringValue(value='Joseph')),\n",
    "            esh.Comparison(\n",
    "                property=esh.Property(\n",
    "                    property=['relLeads','lead','relPerson','person','firstName']),\n",
    "                operator=esh.ComparisonOperator.Search,\n",
    "                value=esh.StringValue(value='Joseph')),\n",
    "             esh.Comparison(\n",
    "                property=esh.Property(\n",
    "                    property=['relObject','object','relPerson','person','firstName']),\n",
    "                operator=esh.ComparisonOperator.Search,\n",
    "                value=esh.StringValue(value='Joseph')),\n",
    "             esh.Comparison(\n",
    "                property=esh.Property(\n",
    "                    property=['relIncident','incident','relPerson','person','firstName']),\n",
    "                operator=esh.ComparisonOperator.Search,\n",
    "                value=esh.StringValue(value='Joseph'))    \n",
    "\n",
    "        ]))\n",
    "\n",
    "execute_search_query(so.dict(exclude_none=True))"
   ]
  },
  {
   "cell_type": "markdown",
   "metadata": {},
   "source": [
    "## Search for two persons and figure out how they are connected to each other (several conditions)"
   ]
  },
  {
   "cell_type": "code",
   "execution_count": 43,
   "metadata": {},
   "outputs": [
    {
     "name": "stdout",
     "output_type": "stream",
     "text": [
      "Total count: 1\n"
     ]
    },
    {
     "data": {
      "text/html": [
       "<div>\n",
       "<style scoped>\n",
       "    .dataframe tbody tr th:only-of-type {\n",
       "        vertical-align: middle;\n",
       "    }\n",
       "\n",
       "    .dataframe tbody tr th {\n",
       "        vertical-align: top;\n",
       "    }\n",
       "\n",
       "    .dataframe thead th {\n",
       "        text-align: right;\n",
       "    }\n",
       "</style>\n",
       "<table border=\"1\" class=\"dataframe\">\n",
       "  <thead>\n",
       "    <tr style=\"text-align: right;\">\n",
       "      <th></th>\n",
       "      <th>Description</th>\n",
       "    </tr>\n",
       "  </thead>\n",
       "  <tbody>\n",
       "    <tr>\n",
       "      <th>0</th>\n",
       "      <td>Kennedy A: Money Laundering</td>\n",
       "    </tr>\n",
       "  </tbody>\n",
       "</table>\n",
       "</div>"
      ],
      "text/plain": [
       "                   Description\n",
       "0  Kennedy A: Money Laundering"
      ]
     },
     "metadata": {},
     "output_type": "display_data"
    }
   ],
   "source": [
    "\n",
    "search_objects = [\n",
    "    esh.EshObject(\n",
    "        count=True,\n",
    "        # top=1,\n",
    "        scope=['Cases'],\n",
    "        searchQueryFilter=esh.Expression(\n",
    "            operator=esh.LogicalOperator.AND,\n",
    "            items=[\n",
    "                esh.Comparison(\n",
    "                    property=esh.Property(\n",
    "                        property=['relPerson', 'person', 'firstName']),\n",
    "                    operator=esh.ComparisonOperator.Search,\n",
    "                    value=esh.StringValue(value='Joseph')),\n",
    "                esh.Comparison(\n",
    "                    property=esh.Property(\n",
    "                        property=['relPerson', 'person', 'firstName']),\n",
    "                    operator=esh.ComparisonOperator.Search,\n",
    "                    value=esh.StringValue(value='Alex'))\n",
    "\n",
    "            ])),\n",
    "    esh.EshObject(\n",
    "        count=True,\n",
    "        # top=1,\n",
    "        scope=['Leads'],\n",
    "        searchQueryFilter=esh.Expression(\n",
    "            operator=esh.LogicalOperator.AND,\n",
    "            items=[\n",
    "                esh.Comparison(\n",
    "                    property=esh.Property(\n",
    "                        property=['relPerson', 'person', 'firstName']),\n",
    "                    operator=esh.ComparisonOperator.Search,\n",
    "                    value=esh.StringValue(value='Joseph')),\n",
    "                esh.Comparison(\n",
    "                    property=esh.Property(\n",
    "                        property=['relPerson', 'person', 'firstName']),\n",
    "                    operator=esh.ComparisonOperator.Search,\n",
    "                    value=esh.StringValue(value='Alex'))\n",
    "\n",
    "            ])),\n",
    "    esh.EshObject(\n",
    "        count=True,\n",
    "        # top=1,\n",
    "        scope=['Object'],\n",
    "        searchQueryFilter=esh.Expression(\n",
    "            operator=esh.LogicalOperator.AND,\n",
    "            items=[\n",
    "                esh.Comparison(\n",
    "                    property=esh.Property(\n",
    "                        property=['relPerson', 'person', 'firstName']),\n",
    "                    operator=esh.ComparisonOperator.Search,\n",
    "                    value=esh.StringValue(value='Joseph')),\n",
    "                esh.Comparison(\n",
    "                    property=esh.Property(\n",
    "                        property=['relPerson', 'person', 'firstName']),\n",
    "                    operator=esh.ComparisonOperator.Search,\n",
    "                    value=esh.StringValue(value='Alex'))\n",
    "\n",
    "            ])),\n",
    "    esh.EshObject(\n",
    "        count=True,\n",
    "        # top=1,\n",
    "        scope=['Incidents'],\n",
    "        searchQueryFilter=esh.Expression(\n",
    "            operator=esh.LogicalOperator.AND,\n",
    "            items=[\n",
    "                esh.Comparison(\n",
    "                    property=esh.Property(\n",
    "                        property=['relPerson', 'person', 'firstName']),\n",
    "                    operator=esh.ComparisonOperator.Search,\n",
    "                    value=esh.StringValue(value='Joseph')),\n",
    "                esh.Comparison(\n",
    "                    property=esh.Property(\n",
    "                        property=['relPerson', 'person', 'firstName']),\n",
    "                    operator=esh.ComparisonOperator.Search,\n",
    "                    value=esh.StringValue(value='Alex'))\n",
    "\n",
    "            ]))                        \n",
    "            ]\n",
    "\n",
    "execute_search_queries(search_objects)\n"
   ]
  },
  {
   "cell_type": "markdown",
   "metadata": {},
   "source": [
    "## Search for two persons and figure out how they are connected to each other (simple condition)"
   ]
  },
  {
   "cell_type": "code",
   "execution_count": 46,
   "metadata": {},
   "outputs": [
    {
     "name": "stdout",
     "output_type": "stream",
     "text": [
      "Total count: 1\n"
     ]
    },
    {
     "data": {
      "text/html": [
       "<div>\n",
       "<style scoped>\n",
       "    .dataframe tbody tr th:only-of-type {\n",
       "        vertical-align: middle;\n",
       "    }\n",
       "\n",
       "    .dataframe tbody tr th {\n",
       "        vertical-align: top;\n",
       "    }\n",
       "\n",
       "    .dataframe thead th {\n",
       "        text-align: right;\n",
       "    }\n",
       "</style>\n",
       "<table border=\"1\" class=\"dataframe\">\n",
       "  <thead>\n",
       "    <tr style=\"text-align: right;\">\n",
       "      <th></th>\n",
       "      <th>Description</th>\n",
       "      <th>Time</th>\n",
       "      <th>Position</th>\n",
       "      <th>Location</th>\n",
       "    </tr>\n",
       "  </thead>\n",
       "  <tbody>\n",
       "    <tr>\n",
       "      <th>0</th>\n",
       "      <td>Assault: J Kennedy on J Roberts</td>\n",
       "      <td>2011-10-11 15:15:00</td>\n",
       "      <td>{'type': 'Point', 'coordinates': [149.0666687,...</td>\n",
       "      <td>Kennedy Cleaning, Greenway</td>\n",
       "    </tr>\n",
       "  </tbody>\n",
       "</table>\n",
       "</div>"
      ],
      "text/plain": [
       "                       Description                 Time  \\\n",
       "0  Assault: J Kennedy on J Roberts  2011-10-11 15:15:00   \n",
       "\n",
       "                                            Position  \\\n",
       "0  {'type': 'Point', 'coordinates': [149.0666687,...   \n",
       "\n",
       "                     Location  \n",
       "0  Kennedy Cleaning, Greenway  "
      ]
     },
     "metadata": {},
     "output_type": "display_data"
    }
   ],
   "source": [
    "so = esh.EshObject(\n",
    "    count=True,\n",
    "    # top=1,\n",
    "    scope=['Incidents'],\n",
    "    searchQueryFilter=esh.Expression(\n",
    "        operator=esh.LogicalOperator.AND,\n",
    "        items=[\n",
    "            esh.Comparison(\n",
    "                property=esh.Property(\n",
    "                    property=['relPerson', 'person', 'firstName']), \n",
    "                operator=esh.ComparisonOperator.Search,\n",
    "                value=esh.StringValue(value='Jerry')),\n",
    "            esh.Comparison(\n",
    "                property=esh.Property(\n",
    "                    property=['relPerson', 'person', 'firstName']),\n",
    "                operator=esh.ComparisonOperator.Search,\n",
    "                value=esh.StringValue(value='Joseph'))  \n",
    "\n",
    "        ]))\n",
    "\n",
    "# execute_search_query(so.dict(exclude_none=True))\n",
    "r = requests.post(\n",
    "    f'{base_url}/v1/query/{example_name}{TENANT_SUFFIX}/latest', json=[so.dict(exclude_none=True)])\n",
    "if r.status_code == 200:\n",
    "    res = r.json()[0]\n",
    "    if '@odata.count' in res:\n",
    "        print(f'Total count: {res[\"@odata.count\"]}')\n",
    "    if res and 'value' in res and res['value']:\n",
    "        df = pd.DataFrame.from_dict(res['value'])[\n",
    "            ['entityDesc', 'entityTime', 'position','location']]\n",
    "        df.rename(columns={'entityDesc': 'Description',\n",
    "                    'entityTime': 'Time', 'position': 'Position', 'location':'Location'}, inplace=True)\n",
    "        display(df)\n",
    "    else:\n",
    "        print('No results')\n",
    "else:\n",
    "    print(f'Error during search. HTTP status code {r.status_code}')\n",
    "    print(r.json())"
   ]
  }
 ],
 "metadata": {
  "kernelspec": {
   "display_name": "Python 3.10.6 64-bit",
   "language": "python",
   "name": "python3"
  },
  "language_info": {
   "codemirror_mode": {
    "name": "ipython",
    "version": 3
   },
   "file_extension": ".py",
   "mimetype": "text/x-python",
   "name": "python",
   "nbconvert_exporter": "python",
   "pygments_lexer": "ipython3",
   "version": "3.10.6"
  },
  "orig_nbformat": 4,
  "vscode": {
   "interpreter": {
    "hash": "f8512305d299d2e9fc6762953164f306cccf922e65b280e5794fe70a35a18825"
   }
  }
 },
 "nbformat": 4,
 "nbformat_minor": 2
}
