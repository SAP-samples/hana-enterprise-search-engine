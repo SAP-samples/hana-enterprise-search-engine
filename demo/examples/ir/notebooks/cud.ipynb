{
 "cells": [
  {
   "cell_type": "code",
   "execution_count": null,
   "metadata": {},
   "outputs": [],
   "source": [
    "import requests\n",
    "import pandas as pd\n",
    "import os\n",
    "import sys\n",
    "from datetime import datetime\n",
    "\n",
    "sys.path.append(os.path.join(sys.path[0], '..', '..', '..', '..'))\n",
    "\n",
    "from demo.shared.tools import TENANT_SUFFIX, get_base_url, get_root_path\n",
    "import src.esh_client as esh\n",
    "\n",
    "base_url = get_base_url()\n",
    "root_path = get_root_path()\n",
    "example_name = sys.path[0].split(os.sep)[-2]\n",
    "\n",
    "\n",
    "def execute_search_query(query):\n",
    "    r = requests.post(\n",
    "        f'{base_url}/v1/query/{example_name}{TENANT_SUFFIX}/latest', json=[query])\n",
    "    if r.status_code == 200:\n",
    "        res = r.json()[0]\n",
    "        if '@odata.count' in res:\n",
    "            print(f'Total count: {res[\"@odata.count\"]}')\n",
    "        if res and 'value' in res and res['value']:\n",
    "            for re in res['value']:\n",
    "                pers_id = re['id']\n",
    "                \n",
    "            df = pd.DataFrame.from_dict(res['value'])[\n",
    "                ['id','firstName', 'lastName', 'age']]\n",
    "            df.rename(columns={'id':'ID','firstName': 'First Name',\n",
    "                      'lastName': 'Last Name', 'age': 'Age'}, inplace=True)\n",
    "            display(df)\n",
    "            return pers_id\n",
    "        else:\n",
    "            print('No results')\n",
    "    else:\n",
    "        print(f'Error during search. HTTP status code {r.status_code}')\n",
    "        print(r.json())"
   ]
  },
  {
   "attachments": {},
   "cell_type": "markdown",
   "metadata": {},
   "source": [
    "## Create Person"
   ]
  },
  {
   "cell_type": "code",
   "execution_count": null,
   "metadata": {},
   "outputs": [],
   "source": [
    "person = {\n",
    "    \"Person\": [\n",
    "        {\n",
    "            \"source\": [\n",
    "                {\n",
    "                    \"name\": \"systemA\",\n",
    "                    \"type\": \"Person\",\n",
    "                    \"sid\": \"GUIDP00099\"\n",
    "                }\n",
    "            ],\n",
    "            \"firstName\": \"Maxi\",\n",
    "            \"lastName\": \"Musti\",\n",
    "            \"dob\": \"19820318\",\n",
    "            \"age\": \"99\",\n",
    "            \"complexion\": \"Fair\",\n",
    "            \"ethnicity\": \"AFR\",\n",
    "            \"height\": 150,\n",
    "            \"gender\": \"Male\",\n",
    "            \"countryOfBirth\": \"DE\",\n",
    "            \"country\": \"AFR\",\n",
    "            \"placeOfBirth\": \"Munich\",\n",
    "            \"nationality\": \"DE\"\n",
    "        }\n",
    "    ]\n",
    "}\n",
    "\n",
    "r = requests.post(\n",
    "        f'{base_url}/v1/data/{example_name}{TENANT_SUFFIX}', json=person)\n",
    "\n",
    "if r.status_code == 200:\n",
    "    print('Successful created!')\n",
    "else:\n",
    "    print('Error!')    "
   ]
  },
  {
   "attachments": {},
   "cell_type": "markdown",
   "metadata": {},
   "source": [
    "## Search for created Person (check)"
   ]
  },
  {
   "cell_type": "code",
   "execution_count": null,
   "metadata": {},
   "outputs": [],
   "source": [
    "so = esh.EshObject(\n",
    "    count=True,\n",
    "    top=2,\n",
    "    scope=['Person'],\n",
    "    searchQueryFilter=esh.Expression(\n",
    "        operator=esh.LogicalOperator.AND,\n",
    "        items=[\n",
    "            esh.Comparison(\n",
    "                property=esh.Property(property=['lastName']),\n",
    "                operator=esh.ComparisonOperator.Search,\n",
    "                value=esh.StringValue(value='Mustim')\n",
    "            )\n",
    "        ]\n",
    "    )\n",
    ")\n",
    "pers_id = execute_search_query(so.dict(exclude_none=True))"
   ]
  },
  {
   "attachments": {},
   "cell_type": "markdown",
   "metadata": {},
   "source": [
    "## Update Person"
   ]
  },
  {
   "cell_type": "code",
   "execution_count": null,
   "metadata": {},
   "outputs": [],
   "source": [
    "person = {\n",
    "    \"Person\": [\n",
    "        {\n",
    "            \"source\": [\n",
    "                {\n",
    "                    \"name\": \"systemA\",\n",
    "                    \"type\": \"Person\",\n",
    "                    \"sid\": \"GUIDP00099\"\n",
    "                }\n",
    "            ],\n",
    "            \"id\": pers_id,\n",
    "            \"firstName\": \"Maxi\",\n",
    "            \"lastName\": \"Mustim\",\n",
    "            \"dob\": \"19820318\",\n",
    "            \"age\": \"99\",\n",
    "            \"complexion\": \"Fair\",\n",
    "            \"ethnicity\": \"AFR\",\n",
    "            \"height\": 150,\n",
    "            \"gender\": \"Male\",\n",
    "            \"countryOfBirth\": \"DE\",\n",
    "            \"country\": \"AFR\",\n",
    "            \"placeOfBirth\": \"Munich\",\n",
    "            \"nationality\": \"DE\"\n",
    "        }\n",
    "    ]\n",
    "}\n",
    "\n",
    "r = requests.put(\n",
    "        f'{base_url}/v1/data/{example_name}{TENANT_SUFFIX}', json=person)\n",
    "\n",
    "if r.status_code == 200:\n",
    "    print('Successful updated!')\n",
    "else:\n",
    "    print('Error!')\n",
    "    print(r.text) "
   ]
  },
  {
   "attachments": {},
   "cell_type": "markdown",
   "metadata": {},
   "source": [
    "## Delete Person"
   ]
  },
  {
   "cell_type": "code",
   "execution_count": null,
   "metadata": {},
   "outputs": [],
   "source": [
    "person = {\n",
    "    \"Person\": [\n",
    "        {\n",
    "            \"id\": pers_id\n",
    "        }\n",
    "    ]\n",
    "}\n",
    "\n",
    "r = requests.delete(\n",
    "        f'{base_url}/v1/data/{example_name}{TENANT_SUFFIX}', json=person)\n",
    "\n",
    "if r.status_code == 200:\n",
    "    print('Successful deleted!')\n",
    "else:\n",
    "    print('Error!')\n",
    "    print(r.text) "
   ]
  }
 ],
 "metadata": {
  "kernelspec": {
   "display_name": "Python 3",
   "language": "python",
   "name": "python3"
  },
  "language_info": {
   "codemirror_mode": {
    "name": "ipython",
    "version": 3
   },
   "file_extension": ".py",
   "mimetype": "text/x-python",
   "name": "python",
   "nbconvert_exporter": "python",
   "pygments_lexer": "ipython3",
   "version": "3.10.6"
  },
  "orig_nbformat": 4
 },
 "nbformat": 4,
 "nbformat_minor": 2
}
