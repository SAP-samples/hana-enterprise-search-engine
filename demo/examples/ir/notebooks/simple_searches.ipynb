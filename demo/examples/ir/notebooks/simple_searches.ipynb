{
 "cells": [
  {
   "cell_type": "markdown",
   "metadata": {},
   "source": [
    "### Initialize"
   ]
  },
  {
   "cell_type": "code",
   "execution_count": 6,
   "metadata": {},
   "outputs": [],
   "source": [
    "sys.path.append(os.path.join(sys.path[0], '..', '..', '..', '..'))\n",
    "import src.esh_client as esh\n",
    "from demo.shared.tools import TENANT_SUFFIX, get_base_url, get_root_path\n",
    "import requests\n",
    "import pandas as pd\n",
    "import os\n",
    "import sys\n",
    "from datetime import datetime\n",
    "\n",
    "\n",
    "\n",
    "\n",
    "base_url = get_base_url()\n",
    "root_path = get_root_path()\n",
    "example_name = sys.path[0].split(os.sep)[-2]\n",
    "\n",
    "\n",
    "def execute_search_query(query):\n",
    "    r = requests.post(\n",
    "        f'{base_url}/v1/query/{example_name}{TENANT_SUFFIX}/latest', json=[query])\n",
    "    if r.status_code == 200:\n",
    "        res = r.json()[0]\n",
    "        if '@odata.count' in res:\n",
    "            print(f'Total count: {res[\"@odata.count\"]}')\n",
    "        if res and 'value' in res and res['value']:\n",
    "            df = pd.DataFrame.from_dict(res['value'])[\n",
    "                ['firstName', 'lastName', 'age']]\n",
    "            df.rename(columns={'firstName': 'First Name',\n",
    "                      'lastName': 'Last Name', 'age': 'Age'}, inplace=True)\n",
    "            display(df)\n",
    "        else:\n",
    "            print('No results')\n",
    "    else:\n",
    "        print(f'Error during search. HTTP status code {r.status_code}')\n",
    "        print(r.json())\n"
   ]
  },
  {
   "cell_type": "markdown",
   "metadata": {},
   "source": [
    "### Search for last name \"Kennedy\"\n",
    "-> Simple search for a person with the last name. The results show all persons with the last name \"Kennedy\""
   ]
  },
  {
   "cell_type": "code",
   "execution_count": null,
   "metadata": {},
   "outputs": [],
   "source": [
    "so = esh.EshObject(\n",
    "    count=True,\n",
    "    top=2,\n",
    "    scope=['Person'],\n",
    "    searchQueryFilter=esh.Expression(\n",
    "        operator=esh.LogicalOperator.AND,\n",
    "        items=[\n",
    "            esh.Comparison(\n",
    "                property=esh.Property(property=['lastName']),\n",
    "                operator=esh.ComparisonOperator.Search,\n",
    "                value=esh.StringValue(value='Kennedy')\n",
    "            )\n",
    "        ]\n",
    "    )\n",
    ")\n",
    "execute_search_query(so.dict(exclude_none=True))\n"
   ]
  },
  {
   "cell_type": "markdown",
   "metadata": {},
   "source": [
    "### Search for first name \"Alex\"\n",
    "--> Simple search for a person with the first name. The results show all persons with the first name \"Alex\"."
   ]
  },
  {
   "cell_type": "code",
   "execution_count": null,
   "metadata": {},
   "outputs": [],
   "source": [
    "so = esh.EshObject(\n",
    "    count=True,\n",
    "    top=1,\n",
    "    scope=['Person'],\n",
    "    searchQueryFilter=esh.Expression(\n",
    "        operator=esh.LogicalOperator.AND,\n",
    "        items=[\n",
    "            esh.Comparison(\n",
    "                property=esh.Property(property=['firstName']),\n",
    "                operator=esh.ComparisonOperator.Search,\n",
    "                value=esh.StringValue(value='Alex'))\n",
    "        ]))\n",
    "\n",
    "execute_search_query(so.dict(exclude_none=True))\n"
   ]
  },
  {
   "cell_type": "markdown",
   "metadata": {},
   "source": [
    "### Serach for age \"37\" AND first name \"Robert\" \n",
    "--> Simple search for person with two conditions: Condition 1: Age=37 and Condition 2: First name = Robert. Just in case of the two conditions are true then the results will show something."
   ]
  },
  {
   "cell_type": "code",
   "execution_count": null,
   "metadata": {},
   "outputs": [],
   "source": [
    "so = esh.EshObject(\n",
    "    count=True,\n",
    "    top=1,\n",
    "    scope=['Person'],\n",
    "    searchQueryFilter=esh.Expression(\n",
    "        operator=esh.LogicalOperator.AND,\n",
    "        items=[\n",
    "            esh.Comparison(\n",
    "                property=esh.Property(property=['age']),\n",
    "                operator=esh.ComparisonOperator.Search,\n",
    "                value=esh.StringValue(value=37)),\n",
    "            esh.Comparison(\n",
    "                property=esh.Property(property=['firstName']),\n",
    "                operator=esh.ComparisonOperator.Search,\n",
    "                value=esh.StringValue(value='Jerry'))\n",
    "        ]))\n",
    "execute_search_query(so.dict(exclude_none=True))\n"
   ]
  },
  {
   "cell_type": "markdown",
   "metadata": {},
   "source": [
    "## Search for cases\n",
    "--> Simple search for cases between date 1.2.2012 and 28.2.2013"
   ]
  },
  {
   "cell_type": "code",
   "execution_count": null,
   "metadata": {},
   "outputs": [],
   "source": [
    "so = esh.EshObject(\n",
    "    count=True,\n",
    "    top=1,\n",
    "    scope=['Cases'],\n",
    "    searchQueryFilter=esh.Expression(\n",
    "        operator=esh.LogicalOperator.AND,\n",
    "        items=[\n",
    "            esh.Comparison(\n",
    "                property=esh.Property(property=['caseStartDate']),\n",
    "                operator=esh.ComparisonOperator.GreaterThanOrEqualCaseInsensitive,\n",
    "                value=esh.StringValue(value='20120201')),\n",
    "            esh.Comparison(\n",
    "                property=esh.Property(property=['caseEndDate']),\n",
    "                operator=esh.ComparisonOperator.LessThanOrEqualCaseInsensitive,\n",
    "                value=esh.StringValue(value='20130228'))\n",
    "        ]))\n",
    "\n",
    "r = requests.post(\n",
    "    f'{base_url}/v1/query/{example_name}DemoExample/latest', json=[so.dict()])\n",
    "if r.status_code == 200:\n",
    "    res = r.json()[0]\n",
    "    if '@odata.count' in res:\n",
    "        print(f'Total count: {res[\"@odata.count\"]}')\n",
    "    if res and 'value' in res and res['value']:\n",
    "\n",
    "        df = pd.DataFrame.from_dict(res['value'])[\n",
    "            ['entityDesc', 'entityTime', 'status', 'priority', 'caseStartDate', 'caseEndDate']]\n",
    "        df.rename(columns={'entityDesc': 'Description',\n",
    "                  'entityTime': 'Time', 'status': 'Status', 'priority': 'Prio', 'caseStartDate': 'Start Date',\n",
    "                           'End Date': 'End Date'}, inplace=True)\n",
    "        display(df)\n",
    "    else:\n",
    "        print('No results')\n",
    "else:\n",
    "    print(f'Error during search. HTTP status code {r.status_code}')\n",
    "    print(r.json())\n"
   ]
  },
  {
   "cell_type": "markdown",
   "metadata": {},
   "source": [
    "## Search for person who are under 30 years old\n",
    "--> Simple search with a special condition statement \"Lower than\". It is searched for persons who are younger than 30 years old. It is also possible to use \"Greater than\", \"Lower Equals\", \"Greater Equals\"."
   ]
  },
  {
   "cell_type": "code",
   "execution_count": null,
   "metadata": {},
   "outputs": [],
   "source": [
    "so = esh.EshObject(\n",
    "    count=True,\n",
    "    top=1,\n",
    "    scope=['Person'],\n",
    "    searchQueryFilter=esh.Expression(\n",
    "        operator=esh.LogicalOperator.AND,\n",
    "        items=[\n",
    "            esh.Comparison(\n",
    "                property=esh.Property(property=['age']),\n",
    "                operator=esh.ComparisonOperator.LessThanOrEqualCaseInsensitive,\n",
    "                value=esh.StringValue(value=30))\n",
    "        ]))\n",
    "\n",
    "execute_search_query(so.dict(exclude_none=True))\n"
   ]
  },
  {
   "cell_type": "markdown",
   "metadata": {},
   "source": [
    "## Search for names with wildcard *\n",
    "--> The wildcard serach is used e.g. to use incomplete words "
   ]
  },
  {
   "cell_type": "code",
   "execution_count": null,
   "metadata": {},
   "outputs": [],
   "source": [
    "so = esh.EshObject(\n",
    "    count=True,\n",
    "    top=3,\n",
    "    scope=['Person'],\n",
    "    searchQueryFilter=esh.Expression(\n",
    "        operator=esh.LogicalOperator.AND,\n",
    "        items=[\n",
    "            esh.Comparison(\n",
    "                property=esh.Property(property=['lastName']),\n",
    "                operator=esh.ComparisonOperator.Search,\n",
    "                value=esh.StringValue(value='Ke*dy'))\n",
    "        ]))\n",
    "\n",
    "execute_search_query(so.dict(exclude_none=True))\n"
   ]
  },
  {
   "cell_type": "markdown",
   "metadata": {},
   "source": [
    "## Search for date of birth with ranges between 19750101 - 19801231\n",
    "--> This simple search shows how ranges can be requested. Here it is searched for a person which is born between 1975 and 1980."
   ]
  },
  {
   "cell_type": "code",
   "execution_count": null,
   "metadata": {},
   "outputs": [],
   "source": [
    "so = esh.EshObject(\n",
    "    count=True,\n",
    "    # top=3,\n",
    "    scope=['Person'],\n",
    "    searchQueryFilter=esh.Expression(\n",
    "        operator=esh.LogicalOperator.AND,\n",
    "        items=[\n",
    "            esh.Comparison(\n",
    "\n",
    "                property=esh.Property(property=['dob']),\n",
    "                operator=esh.ComparisonOperator.Search,\n",
    "                value=esh.StringValue(value='[19750101 19801231]'))\n",
    "        ]))\n",
    "execute_search_query(so.dict(exclude_none=True))\n"
   ]
  },
  {
   "cell_type": "markdown",
   "metadata": {},
   "source": [
    "## Search for persons who are between 30 and 40 and gender=male\n",
    "--> Simple search for persons with two conditions: It is shown the ranges of the age 30-40 and the gender male"
   ]
  },
  {
   "cell_type": "code",
   "execution_count": null,
   "metadata": {},
   "outputs": [],
   "source": [
    "so = esh.EshObject(\n",
    "    count=True,\n",
    "    # top=3,\n",
    "    scope=['Person'],\n",
    "    searchQueryFilter=esh.Expression(\n",
    "        operator=esh.LogicalOperator.AND,\n",
    "        items=[\n",
    "            esh.Comparison(\n",
    "                property=esh.Property(property=['age']),\n",
    "                operator=esh.ComparisonOperator.Search,\n",
    "                value=esh.StringValue(value='[30 40]')),\n",
    "            esh.Comparison(\n",
    "                property=esh.Property(property=['gender']),\n",
    "                operator=esh.ComparisonOperator.Search,\n",
    "                value=esh.StringValue(value='male'))\n",
    "        ]))\n",
    "\n",
    "execute_search_query(so.dict(exclude_none=True))\n"
   ]
  },
  {
   "cell_type": "markdown",
   "metadata": {},
   "source": [
    "## Search for persons where height is between 170 and 180, gender=Male, age between 50-60, country=UK\n",
    "--> Simple search with several/multiple conditions"
   ]
  },
  {
   "cell_type": "code",
   "execution_count": null,
   "metadata": {},
   "outputs": [],
   "source": [
    "so = esh.EshObject(\n",
    "    count=True,\n",
    "    # top=3,\n",
    "    scope=['Person'],\n",
    "    searchQueryFilter=esh.Expression(\n",
    "        operator=esh.LogicalOperator.AND,\n",
    "        items=[\n",
    "            esh.Comparison(\n",
    "                property=esh.Property(property=['height']),\n",
    "                operator=esh.ComparisonOperator.Search,\n",
    "                value=esh.StringValue(value='[170 180]')),\n",
    "            esh.Comparison(\n",
    "                property=esh.Property(property=['gender']),\n",
    "                operator=esh.ComparisonOperator.Search,\n",
    "                value=esh.StringValue(value='male')),\n",
    "            esh.Comparison(\n",
    "                property=esh.Property(property=['age']),\n",
    "                operator=esh.ComparisonOperator.Search,\n",
    "                value=esh.StringValue(value='[50 60]')),\n",
    "            esh.Comparison(\n",
    "                property=esh.Property(property=['country']),\n",
    "                operator=esh.ComparisonOperator.Search,\n",
    "                value=esh.StringValue(value='UK'))\n",
    "        ]))\n",
    "\n",
    "execute_search_query(so.dict(exclude_none=True))\n"
   ]
  },
  {
   "cell_type": "markdown",
   "metadata": {},
   "source": [
    "## Search for person who is a male, ethnicity=AFR, and complexion=Dark\n",
    "\n",
    "--> Search for persons with multiple conditions"
   ]
  },
  {
   "cell_type": "code",
   "execution_count": null,
   "metadata": {},
   "outputs": [],
   "source": [
    "so = esh.EshObject(\n",
    "    count=True,\n",
    "    # top=3,\n",
    "    scope=['Person'],\n",
    "    searchQueryFilter=esh.Expression(\n",
    "        operator=esh.LogicalOperator.AND,\n",
    "        items=[\n",
    "            esh.Comparison(\n",
    "                property=esh.Property(property=['ethnicity']),\n",
    "                operator=esh.ComparisonOperator.Search,\n",
    "                value=esh.StringValue(value='AFR')),\n",
    "            esh.Comparison(\n",
    "                property=esh.Property(property=['gender']),\n",
    "                operator=esh.ComparisonOperator.Search,\n",
    "                value=esh.StringValue(value='male')),\n",
    "            esh.Comparison(\n",
    "                property=esh.Property(property=['complexion']),\n",
    "                operator=esh.ComparisonOperator.Search,\n",
    "                value=esh.StringValue(value='Dark'))\n",
    "        ]))\n",
    "\n",
    "execute_search_query(so.dict(exclude_none=True))\n"
   ]
  },
  {
   "cell_type": "markdown",
   "metadata": {},
   "source": [
    "## Freestyle Search"
   ]
  },
  {
   "cell_type": "code",
   "execution_count": 11,
   "metadata": {},
   "outputs": [
    {
     "name": "stdout",
     "output_type": "stream",
     "text": [
      "Total count: 1\n"
     ]
    },
    {
     "data": {
      "text/html": [
       "<div>\n",
       "<style scoped>\n",
       "    .dataframe tbody tr th:only-of-type {\n",
       "        vertical-align: middle;\n",
       "    }\n",
       "\n",
       "    .dataframe tbody tr th {\n",
       "        vertical-align: top;\n",
       "    }\n",
       "\n",
       "    .dataframe thead th {\n",
       "        text-align: right;\n",
       "    }\n",
       "</style>\n",
       "<table border=\"1\" class=\"dataframe\">\n",
       "  <thead>\n",
       "    <tr style=\"text-align: right;\">\n",
       "      <th></th>\n",
       "      <th>First Name</th>\n",
       "      <th>Last Name</th>\n",
       "      <th>Age</th>\n",
       "    </tr>\n",
       "  </thead>\n",
       "  <tbody>\n",
       "    <tr>\n",
       "      <th>0</th>\n",
       "      <td>Alex</td>\n",
       "      <td>Kennedy</td>\n",
       "      <td>57</td>\n",
       "    </tr>\n",
       "  </tbody>\n",
       "</table>\n",
       "</div>"
      ],
      "text/plain": [
       "  First Name Last Name  Age\n",
       "0       Alex   Kennedy   57"
      ]
     },
     "metadata": {},
     "output_type": "display_data"
    }
   ],
   "source": [
    "so = esh.EshObject(\n",
    "    count=True,\n",
    "    top=10,\n",
    "    scope=['Person'],\n",
    "    searchQueryFilter=esh.Expression(\n",
    "        items=[\n",
    "            esh.StringValue(value='Alex')\n",
    "        ]\n",
    "    )\n",
    ")\n",
    "execute_search_query(so.dict(exclude_none=True))\n"
   ]
  },
  {
   "cell_type": "markdown",
   "metadata": {},
   "source": [
    "## Search for persons and order by age ascending"
   ]
  },
  {
   "cell_type": "code",
   "execution_count": null,
   "metadata": {},
   "outputs": [],
   "source": [
    "so = esh.EshObject(\n",
    "    count=True,\n",
    "    # top=3,\n",
    "    scope=['Person'],\n",
    "    orderby=[esh.OrderBy(key=esh.Property(property=['age']), order=esh.OrderBySorting.asc)],\n",
    "    searchQueryFilter=esh.Expression(\n",
    "        operator=esh.LogicalOperator.AND,\n",
    "        items=[\n",
    "            esh.Comparison(\n",
    "\n",
    "                property=esh.Property(property=['firstName']),\n",
    "                operator=esh.ComparisonOperator.Search,\n",
    "                value=esh.StringValue(value='*'))\n",
    "        ]))\n",
    "execute_search_query(so.dict(exclude_none=True))"
   ]
  },
  {
   "cell_type": "markdown",
   "metadata": {},
   "source": [
    "## Search for Long text"
   ]
  },
  {
   "cell_type": "code",
   "execution_count": null,
   "metadata": {},
   "outputs": [],
   "source": [
    "so = esh.EshObject(\n",
    "    count=True,\n",
    "    top=1,\n",
    "    scope=['Cases'],\n",
    "    searchQueryFilter=esh.Expression(\n",
    "        operator=esh.LogicalOperator.AND,\n",
    "        items=[\n",
    "            esh.Comparison(\n",
    "                property=esh.Property(property=['caseSummary']),\n",
    "                operator=esh.ComparisonOperator.Search,\n",
    "                value=esh.StringValue(value='Investigation into Alex Kennedy for money laundering. Alex Kennedy was convicted for laundering money for the Rebels OMCG through cash payments to itinerant workers of his company Kennedy Cleaning Pty Ltd.'))\n",
    "        ]))\n",
    "\n",
    "r = requests.post(\n",
    "    f'{base_url}/v1/query/{example_name}DemoExample/latest', json=[so.dict()])\n",
    "if r.status_code == 200:\n",
    "    res = r.json()[0]\n",
    "    if '@odata.count' in res:\n",
    "        print(f'Total count: {res[\"@odata.count\"]}')\n",
    "    if res and 'value' in res and res['value']:\n",
    "\n",
    "        df = pd.DataFrame.from_dict(res['value'])[\n",
    "            ['entityDesc', 'entityTime', 'status', 'priority', 'caseStartDate', 'caseEndDate']]\n",
    "        df.rename(columns={'entityDesc': 'Description',\n",
    "                  'entityTime': 'Time', 'status': 'Status', 'priority': 'Prio', 'caseStartDate': 'Start Date',\n",
    "                           'End Date': 'End Date'}, inplace=True)\n",
    "        display(df)\n",
    "    else:\n",
    "        print('No results')\n",
    "else:\n",
    "    print(f'Error during search. HTTP status code {r.status_code}')\n",
    "    print(r.json())\n"
   ]
  }
 ],
 "metadata": {
  "kernelspec": {
   "display_name": "Python 3.10.6 64-bit",
   "language": "python",
   "name": "python3"
  },
  "language_info": {
   "codemirror_mode": {
    "name": "ipython",
    "version": 3
   },
   "file_extension": ".py",
   "mimetype": "text/x-python",
   "name": "python",
   "nbconvert_exporter": "python",
   "pygments_lexer": "ipython3",
   "version": "3.10.6"
  },
  "orig_nbformat": 4,
  "vscode": {
   "interpreter": {
    "hash": "f8512305d299d2e9fc6762953164f306cccf922e65b280e5794fe70a35a18825"
   }
  }
 },
 "nbformat": 4,
 "nbformat_minor": 2
}
