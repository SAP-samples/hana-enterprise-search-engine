{
 "cells": [
  {
   "cell_type": "markdown",
   "metadata": {},
   "source": [
    "### Initialize"
   ]
  },
  {
   "cell_type": "code",
   "execution_count": null,
   "metadata": {},
   "outputs": [],
   "source": [
    "import json\n",
    "import os\n",
    "import sys\n",
    "from datetime import datetime\n",
    "\n",
    "import pandas as pd\n",
    "import requests\n",
    "from ipywidgets import Dropdown\n",
    "\n",
    "sys.path.append(os.path.join(sys.path[0], '..', '..'))\n",
    "from demo.shared.tools import (TENANT_SUFFIX, StopExecution, get_base_url,\n",
    "                               get_root_path, print_response)\n",
    "\n",
    "base_url = get_base_url()\n",
    "root_path = get_root_path()"
   ]
  },
  {
   "cell_type": "markdown",
   "metadata": {},
   "source": [
    "### Select example which should be used"
   ]
  },
  {
   "cell_type": "code",
   "execution_count": null,
   "metadata": {},
   "outputs": [],
   "source": [
    "example_path = os.path.join('..', 'examples')\n",
    "options = next(os.walk(example_path))[1]\n",
    "selected = Dropdown(\n",
    "    options=options,\n",
    "    description='Select:',\n",
    "    value = None,\n",
    "    disabled=False,\n",
    ")\n",
    "selected"
   ]
  },
  {
   "cell_type": "markdown",
   "metadata": {},
   "source": [
    "### Create CSON (JSON-format) from CDS file (text format) using the CDS compiler"
   ]
  },
  {
   "cell_type": "code",
   "execution_count": null,
   "metadata": {},
   "outputs": [],
   "source": [
    "if selected.value:\n",
    "    cson_file_direct = os.path.join(root_path, '..', 'examples', selected.value, 'model.json')\n",
    "    if os.path.exists(cson_file_direct):\n",
    "        with open(cson_file_direct, encoding='utf-8') as f:\n",
    "            cson = json.load(f)\n",
    "    else:\n",
    "        cds_file = os.path.join(root_path, '..', 'examples', selected.value, 'model.cds')\n",
    "        cson_file = os.path.join(root_path, '..', 'shared', 'temp', f'{selected.value}.model.json')\n",
    "        command_line_statement = (f'cds compile {cds_file} --to json -o {cson_file}')\n",
    "        os.system(command_line_statement)\n",
    "        with open(cson_file, encoding='utf-8') as f:\n",
    "            cson = json.load(f)\n",
    "        print(f'The following command line statement was executed to compile the example cds file to cson. Filename is temp{os.sep}{selected.value}.model.json):')\n",
    "        print(command_line_statement)\n",
    "    data_file = os.path.join(root_path, '..', 'examples', selected.value, 'data.json')\n",
    "else:\n",
    "    print('No example selected')"
   ]
  },
  {
   "cell_type": "markdown",
   "metadata": {},
   "source": [
    "### List existing tenants"
   ]
  },
  {
   "cell_type": "code",
   "execution_count": null,
   "metadata": {},
   "outputs": [],
   "source": [
    "r = requests.get(f'{base_url}/v1/tenant')\n",
    "if r.status_code == 200:\n",
    "    existing_tenants = [{k:datetime.fromisoformat(v) if k == 'createdAt' else v \n",
    "        for k, v in w.items()} for w in r.json()]\n",
    "    if existing_tenants:\n",
    "        df = pd.DataFrame.from_dict(existing_tenants)\n",
    "        df.rename(columns={'name': 'Tenant Name', 'createdAt': 'Created At'}, inplace=True)\n",
    "        display(df)\n",
    "    else:\n",
    "        print('Info: No tenants exist')\n",
    "else:\n",
    "    print(f'Error. HTTP response status code {r.status_code}')"
   ]
  },
  {
   "cell_type": "markdown",
   "metadata": {},
   "source": [
    "### Create tenant"
   ]
  },
  {
   "cell_type": "code",
   "execution_count": null,
   "metadata": {},
   "outputs": [],
   "source": [
    "r = requests.post(f'{base_url}/v1/tenant/{selected.value}{TENANT_SUFFIX}')\n",
    "print_response(r)"
   ]
  },
  {
   "cell_type": "markdown",
   "metadata": {},
   "source": [
    "### Check model consistency"
   ]
  },
  {
   "cell_type": "code",
   "execution_count": null,
   "metadata": {},
   "outputs": [],
   "source": [
    "r = requests.post(f'{base_url}/v1/deploy/{selected.value}', json=cson\\\n",
    "                    , params={'simulate': True})\n",
    "print_response(r)"
   ]
  },
  {
   "cell_type": "markdown",
   "metadata": {},
   "source": [
    "### Deploy"
   ]
  },
  {
   "cell_type": "code",
   "execution_count": null,
   "metadata": {},
   "outputs": [],
   "source": [
    "r = requests.post(f'{base_url}/v1/deploy/{selected.value}{TENANT_SUFFIX}', json=cson)\n",
    "print_response(r)"
   ]
  },
  {
   "cell_type": "markdown",
   "metadata": {},
   "source": [
    "### Load data"
   ]
  },
  {
   "cell_type": "code",
   "execution_count": null,
   "metadata": {},
   "outputs": [],
   "source": [
    "if selected.value:\n",
    "    data_file = os.path.join(root_path, '..', 'examples', selected.value, 'data.json')\n",
    "    if os.path.exists(data_file):\n",
    "        with open(data_file, encoding = 'utf-8') as f:\n",
    "            data = json.load(f)\n",
    "        r = requests.post(f'{base_url}/v1/data/{selected.value}{TENANT_SUFFIX}', json=data)\n",
    "        if r.status_code == 200:\n",
    "            print('Data successfully loaded')\n",
    "        else:\n",
    "            print(f'Error loading data. HTTP status code {r.status_code}')\n",
    "            print(r.text)\n",
    "    else:\n",
    "        print('No data file exists')"
   ]
  }
 ],
 "metadata": {
  "kernelspec": {
   "display_name": "Python 3.10.7 64-bit",
   "language": "python",
   "name": "python3"
  },
  "language_info": {
   "codemirror_mode": {
    "name": "ipython",
    "version": 3
   },
   "file_extension": ".py",
   "mimetype": "text/x-python",
   "name": "python",
   "nbconvert_exporter": "python",
   "pygments_lexer": "ipython3",
   "version": "3.10.8"
  },
  "orig_nbformat": 4,
  "vscode": {
   "interpreter": {
    "hash": "26de051ba29f2982a8de78e945f0abaf191376122a1563185a90213a26c5da77"
   }
  }
 },
 "nbformat": 4,
 "nbformat_minor": 2
}
